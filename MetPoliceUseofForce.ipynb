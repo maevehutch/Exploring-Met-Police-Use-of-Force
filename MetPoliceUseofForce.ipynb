{
 "cells": [
  {
   "cell_type": "code",
   "execution_count": 64,
   "id": "43f274c6",
   "metadata": {},
   "outputs": [],
   "source": [
    "import pandas as pd\n",
    "import matplotlib.pyplot as plt\n",
    "import matplotlib.dates as mdates\n",
    "import seaborn as sns\n",
    "import numpy as np\n",
    "import statsmodels.api as sm\n",
    "import statsmodels.formula.api as smf\n",
    "import scipy.stats as stats\n",
    "from sklearn.model_selection import KFold\n",
    "from scipy.stats import pearsonr\n",
    "from patsy import dmatrices"
   ]
  },
  {
   "cell_type": "markdown",
   "id": "98db34b7",
   "metadata": {},
   "source": [
    "# 1. Data Preparation"
   ]
  },
  {
   "cell_type": "markdown",
   "id": "81282c13",
   "metadata": {},
   "source": [
    "## 1.1 Metropolitan Police use of Force Data"
   ]
  },
  {
   "cell_type": "markdown",
   "id": "bd1c0dc5",
   "metadata": {},
   "source": [
    "The data to be used for the majority of the analysis is the Met Police Use of Force data. It can be accessed here: https://data.london.gov.uk/dataset/use-of-force"
   ]
  },
  {
   "cell_type": "markdown",
   "id": "cb271c4a",
   "metadata": {},
   "source": [
    "Recording of this data began in April 2017, so this is where the analysis will begin, and it will cover 4 complete years up until April 2021. There is more up to date data available, however, it was chosen to only go to April 2021 rather than also including the next data set that runs until the present day, as this data is still subject to change and so may be inaccurate."
   ]
  },
  {
   "cell_type": "code",
   "execution_count": 8,
   "id": "aa742f1c",
   "metadata": {},
   "outputs": [],
   "source": [
    "# Reading data from 4 years and parsing date and time into one column\n",
    "\n",
    "# 2017 is in format DD/MM/YY which is different from other files, using custom date parser so it is in right format\n",
    "custom_date_parser = lambda x, y: pd.to_datetime(x+\" \"+y).strftime(\"%d/%m/%Y %H:%M:%S\")\n",
    "\n",
    "force17 = pd.read_csv(\"MPS Use of Force - FY17-18.csv\", parse_dates={\"DateTime\": ['IncidentDate', 'IncidentTime']}, \n",
    "                      date_parser=custom_date_parser, low_memory=False)\n",
    "force18 = pd.read_csv(\"MPS Use of Force - FY18-19.csv\", parse_dates={\"DateTime\": ['IncidentDate', 'IncidentTime']}, \n",
    "                      low_memory=False)\n",
    "force19 = pd.read_csv(\"MPS Use of Force - FY19-20.csv\", parse_dates={\"DateTime\": ['IncidentDate', 'IncidentTime']}, \n",
    "                      low_memory=False)\n",
    "force20 = pd.read_csv(\"MPS Use of Force - FY20-21.csv\", parse_dates={\"DateTime\": ['IncidentDate', 'IncidentTime']}, \n",
    "                      low_memory=False)"
   ]
  },
  {
   "cell_type": "code",
   "execution_count": 350,
   "id": "e6b2ba2e",
   "metadata": {},
   "outputs": [
    {
     "data": {
      "text/html": [
       "<div>\n",
       "<style scoped>\n",
       "    .dataframe tbody tr th:only-of-type {\n",
       "        vertical-align: middle;\n",
       "    }\n",
       "\n",
       "    .dataframe tbody tr th {\n",
       "        vertical-align: top;\n",
       "    }\n",
       "\n",
       "    .dataframe thead th {\n",
       "        text-align: right;\n",
       "    }\n",
       "</style>\n",
       "<table border=\"1\" class=\"dataframe\">\n",
       "  <thead>\n",
       "    <tr style=\"text-align: right;\">\n",
       "      <th></th>\n",
       "      <th>DateTime</th>\n",
       "      <th>Incident Location: Street/Highway</th>\n",
       "      <th>Incident Location: Public Transport</th>\n",
       "      <th>Incident Location: Retail Premises</th>\n",
       "      <th>Incident Location: Open ground (e.g. park, car park, field)</th>\n",
       "      <th>Incident Location: Licensed Premises</th>\n",
       "      <th>Incident Location: Sports or Event Stadia</th>\n",
       "      <th>Incident Location: Hospital/A&amp;E (non-mental-health setting)</th>\n",
       "      <th>Incident Location: Mental Health Setting</th>\n",
       "      <th>Incident Location: Police vehicle with prisoner handling cage</th>\n",
       "      <th>...</th>\n",
       "      <th>SubjectMedOffered</th>\n",
       "      <th>SubjectMedProvided</th>\n",
       "      <th>Outcome: Made off/escaped</th>\n",
       "      <th>Outcome: Arrested</th>\n",
       "      <th>Outcome: Hospitalised</th>\n",
       "      <th>Outcome: Detained - Mental Health Act</th>\n",
       "      <th>Outcome: Fatality</th>\n",
       "      <th>Outcome: Other</th>\n",
       "      <th>CED Used</th>\n",
       "      <th>CED Device Serial No</th>\n",
       "    </tr>\n",
       "  </thead>\n",
       "  <tbody>\n",
       "    <tr>\n",
       "      <th>0</th>\n",
       "      <td>2017-04-01 00:42:00</td>\n",
       "      <td>No</td>\n",
       "      <td>No</td>\n",
       "      <td>No</td>\n",
       "      <td>No</td>\n",
       "      <td>Yes</td>\n",
       "      <td>No</td>\n",
       "      <td>No</td>\n",
       "      <td>No</td>\n",
       "      <td>No</td>\n",
       "      <td>...</td>\n",
       "      <td>NaN</td>\n",
       "      <td>NaN</td>\n",
       "      <td>No</td>\n",
       "      <td>Yes</td>\n",
       "      <td>No</td>\n",
       "      <td>No</td>\n",
       "      <td>No</td>\n",
       "      <td>No</td>\n",
       "      <td>NaN</td>\n",
       "      <td>NaN</td>\n",
       "    </tr>\n",
       "    <tr>\n",
       "      <th>1</th>\n",
       "      <td>2017-04-01 04:15:00</td>\n",
       "      <td>Yes</td>\n",
       "      <td>No</td>\n",
       "      <td>No</td>\n",
       "      <td>No</td>\n",
       "      <td>No</td>\n",
       "      <td>No</td>\n",
       "      <td>No</td>\n",
       "      <td>No</td>\n",
       "      <td>No</td>\n",
       "      <td>...</td>\n",
       "      <td>NaN</td>\n",
       "      <td>NaN</td>\n",
       "      <td>No</td>\n",
       "      <td>Yes</td>\n",
       "      <td>No</td>\n",
       "      <td>No</td>\n",
       "      <td>No</td>\n",
       "      <td>No</td>\n",
       "      <td>NaN</td>\n",
       "      <td>NaN</td>\n",
       "    </tr>\n",
       "    <tr>\n",
       "      <th>2</th>\n",
       "      <td>2017-04-01 03:55:00</td>\n",
       "      <td>Yes</td>\n",
       "      <td>No</td>\n",
       "      <td>No</td>\n",
       "      <td>No</td>\n",
       "      <td>No</td>\n",
       "      <td>No</td>\n",
       "      <td>No</td>\n",
       "      <td>No</td>\n",
       "      <td>No</td>\n",
       "      <td>...</td>\n",
       "      <td>NaN</td>\n",
       "      <td>NaN</td>\n",
       "      <td>No</td>\n",
       "      <td>Yes</td>\n",
       "      <td>No</td>\n",
       "      <td>No</td>\n",
       "      <td>No</td>\n",
       "      <td>No</td>\n",
       "      <td>NaN</td>\n",
       "      <td>NaN</td>\n",
       "    </tr>\n",
       "    <tr>\n",
       "      <th>3</th>\n",
       "      <td>2017-04-01 04:10:00</td>\n",
       "      <td>Yes</td>\n",
       "      <td>No</td>\n",
       "      <td>No</td>\n",
       "      <td>No</td>\n",
       "      <td>No</td>\n",
       "      <td>No</td>\n",
       "      <td>No</td>\n",
       "      <td>No</td>\n",
       "      <td>No</td>\n",
       "      <td>...</td>\n",
       "      <td>NaN</td>\n",
       "      <td>NaN</td>\n",
       "      <td>No</td>\n",
       "      <td>Yes</td>\n",
       "      <td>No</td>\n",
       "      <td>No</td>\n",
       "      <td>No</td>\n",
       "      <td>No</td>\n",
       "      <td>NaN</td>\n",
       "      <td>NaN</td>\n",
       "    </tr>\n",
       "    <tr>\n",
       "      <th>4</th>\n",
       "      <td>2017-04-01 11:29:00</td>\n",
       "      <td>Yes</td>\n",
       "      <td>No</td>\n",
       "      <td>No</td>\n",
       "      <td>No</td>\n",
       "      <td>No</td>\n",
       "      <td>No</td>\n",
       "      <td>No</td>\n",
       "      <td>No</td>\n",
       "      <td>No</td>\n",
       "      <td>...</td>\n",
       "      <td>NaN</td>\n",
       "      <td>NaN</td>\n",
       "      <td>No</td>\n",
       "      <td>Yes</td>\n",
       "      <td>No</td>\n",
       "      <td>No</td>\n",
       "      <td>No</td>\n",
       "      <td>No</td>\n",
       "      <td>NaN</td>\n",
       "      <td>NaN</td>\n",
       "    </tr>\n",
       "  </tbody>\n",
       "</table>\n",
       "<p>5 rows × 270 columns</p>\n",
       "</div>"
      ],
      "text/plain": [
       "             DateTime Incident Location: Street/Highway  \\\n",
       "0 2017-04-01 00:42:00                                No   \n",
       "1 2017-04-01 04:15:00                               Yes   \n",
       "2 2017-04-01 03:55:00                               Yes   \n",
       "3 2017-04-01 04:10:00                               Yes   \n",
       "4 2017-04-01 11:29:00                               Yes   \n",
       "\n",
       "  Incident Location: Public Transport Incident Location: Retail Premises  \\\n",
       "0                                  No                                 No   \n",
       "1                                  No                                 No   \n",
       "2                                  No                                 No   \n",
       "3                                  No                                 No   \n",
       "4                                  No                                 No   \n",
       "\n",
       "  Incident Location: Open ground (e.g. park, car park, field)  \\\n",
       "0                                                 No            \n",
       "1                                                 No            \n",
       "2                                                 No            \n",
       "3                                                 No            \n",
       "4                                                 No            \n",
       "\n",
       "  Incident Location: Licensed Premises  \\\n",
       "0                                  Yes   \n",
       "1                                   No   \n",
       "2                                   No   \n",
       "3                                   No   \n",
       "4                                   No   \n",
       "\n",
       "  Incident Location: Sports or Event Stadia  \\\n",
       "0                                        No   \n",
       "1                                        No   \n",
       "2                                        No   \n",
       "3                                        No   \n",
       "4                                        No   \n",
       "\n",
       "  Incident Location: Hospital/A&E (non-mental-health setting)  \\\n",
       "0                                                 No            \n",
       "1                                                 No            \n",
       "2                                                 No            \n",
       "3                                                 No            \n",
       "4                                                 No            \n",
       "\n",
       "  Incident Location: Mental Health Setting  \\\n",
       "0                                       No   \n",
       "1                                       No   \n",
       "2                                       No   \n",
       "3                                       No   \n",
       "4                                       No   \n",
       "\n",
       "  Incident Location: Police vehicle with prisoner handling cage  ...  \\\n",
       "0                                                 No             ...   \n",
       "1                                                 No             ...   \n",
       "2                                                 No             ...   \n",
       "3                                                 No             ...   \n",
       "4                                                 No             ...   \n",
       "\n",
       "  SubjectMedOffered SubjectMedProvided Outcome: Made off/escaped  \\\n",
       "0               NaN                NaN                        No   \n",
       "1               NaN                NaN                        No   \n",
       "2               NaN                NaN                        No   \n",
       "3               NaN                NaN                        No   \n",
       "4               NaN                NaN                        No   \n",
       "\n",
       "  Outcome: Arrested Outcome: Hospitalised  \\\n",
       "0               Yes                    No   \n",
       "1               Yes                    No   \n",
       "2               Yes                    No   \n",
       "3               Yes                    No   \n",
       "4               Yes                    No   \n",
       "\n",
       "  Outcome: Detained - Mental Health Act Outcome: Fatality Outcome: Other  \\\n",
       "0                                    No                No             No   \n",
       "1                                    No                No             No   \n",
       "2                                    No                No             No   \n",
       "3                                    No                No             No   \n",
       "4                                    No                No             No   \n",
       "\n",
       "  CED Used CED Device Serial No  \n",
       "0      NaN                  NaN  \n",
       "1      NaN                  NaN  \n",
       "2      NaN                  NaN  \n",
       "3      NaN                  NaN  \n",
       "4      NaN                  NaN  \n",
       "\n",
       "[5 rows x 270 columns]"
      ]
     },
     "execution_count": 350,
     "metadata": {},
     "output_type": "execute_result"
    }
   ],
   "source": [
    "# Combining the data from 4 years into one dataframe containing the raw data and examining\n",
    "force_raw = pd.concat([force17, force18, force19, force20], ignore_index=True)\n",
    "force_raw.head()"
   ]
  },
  {
   "cell_type": "code",
   "execution_count": 349,
   "id": "d5c33d50",
   "metadata": {},
   "outputs": [],
   "source": [
    "# Changing the Yes and No columns to 1s and 0s for easier analysis\n",
    "force_encoded = force_raw.replace(to_replace=['No', 'Yes'], value=[0, 1])\n",
    "\n",
    "# Replacing NaN values with 0\n",
    "force_encoded = force_encoded.fillna(0)\n",
    "\n",
    "# Examining columns\n",
    "# force_encoded.columns.values"
   ]
  },
  {
   "cell_type": "markdown",
   "id": "fde92974",
   "metadata": {},
   "source": [
    "There are several column names, especially those relating to 'Tactics' and 'Effectives' that have not been adequately explained by the Metropolitan Police, so these will be excluded from further analysis. There are also numerous columns relating to specific usage of taser, however, this level of specificity does not provide much insight into the severity of the taser usage, so only the 7 broad categories of taser usage columns will be used, froma severity level of 0 (no taser usage) to 7 (CED Angle Drive Stun), as per the Metropolitan Police definitions, available at https://data.london.gov.uk/dataset/use-of-force."
   ]
  },
  {
   "cell_type": "code",
   "execution_count": 11,
   "id": "81119241",
   "metadata": {},
   "outputs": [],
   "source": [
    "taser_cols = ['CED Drawn',\n",
    "       'CED Aimed', 'CED Red-Dotted', 'CED Arced','CED Drive Stun',\n",
    "       'CED Fired', 'CED Angle Drive Stun']"
   ]
  },
  {
   "cell_type": "code",
   "execution_count": 12,
   "id": "a6185b9f",
   "metadata": {},
   "outputs": [],
   "source": [
    "# merging location into one column to reduce dimensionality\n",
    "location_cols = ['Incident Location: Street/Highway',\n",
    "       'Incident Location: Public Transport',\n",
    "       'Incident Location: Retail Premises',\n",
    "       'Incident Location: Open ground (e.g. park, car park, field)',\n",
    "       'Incident Location: Licensed Premises',\n",
    "       'Incident Location: Sports or Event Stadia',\n",
    "       'Incident Location: Hospital/A&E (non-mental-health setting)',\n",
    "       'Incident Location: Mental Health Setting',\n",
    "       'Incident Location: Police vehicle with prisoner handling cage',\n",
    "       'Incident Location: Police vehicle without prisoner handling cage',\n",
    "       'Incident Location: Dwelling',\n",
    "       'Incident Location: Police station (excluding custody block)',\n",
    "       'Incident Location: Custody Block', 'Incident Location: Ambulance',\n",
    "       'Incident Location: Other']\n",
    "force_encoded['Location'] = force_encoded[location_cols].idxmax(axis=1).str.replace(\"Incident Location: \", \"\")"
   ]
  },
  {
   "cell_type": "code",
   "execution_count": 13,
   "id": "e1e11613",
   "metadata": {},
   "outputs": [],
   "source": [
    "# encoding level of injury like other columns and renaming for clarity\n",
    "injury = pd.get_dummies(force_encoded['SubjectNatureOfInjury'])\n",
    "\n",
    "current_cols = injury.columns.values\n",
    "desired_cols = ['Injury: None', 'Injury: Death', 'Injury: Minor', 'Injury: Severe']\n",
    "col_dict = dict(zip(current_cols, desired_cols))\n",
    "injury = injury.rename(columns=col_dict)\n",
    "\n",
    "force_encoded = pd.concat([force_encoded, injury], axis=1)"
   ]
  },
  {
   "cell_type": "code",
   "execution_count": 348,
   "id": "788c9134",
   "metadata": {},
   "outputs": [
    {
     "data": {
      "text/html": [
       "<div>\n",
       "<style scoped>\n",
       "    .dataframe tbody tr th:only-of-type {\n",
       "        vertical-align: middle;\n",
       "    }\n",
       "\n",
       "    .dataframe tbody tr th {\n",
       "        vertical-align: top;\n",
       "    }\n",
       "\n",
       "    .dataframe thead th {\n",
       "        text-align: right;\n",
       "    }\n",
       "</style>\n",
       "<table border=\"1\" class=\"dataframe\">\n",
       "  <thead>\n",
       "    <tr style=\"text-align: right;\">\n",
       "      <th></th>\n",
       "      <th>DateTime</th>\n",
       "      <th>Borough</th>\n",
       "      <th>Location</th>\n",
       "      <th>SubjectEthnicity</th>\n",
       "      <th>SubjectAge</th>\n",
       "      <th>SubjectGender</th>\n",
       "      <th>Injury: None</th>\n",
       "      <th>Injury: Death</th>\n",
       "      <th>Injury: Minor</th>\n",
       "      <th>Injury: Severe</th>\n",
       "      <th>...</th>\n",
       "      <th>CED Fired</th>\n",
       "      <th>CED Angle Drive Stun</th>\n",
       "      <th>Firearms Aimed</th>\n",
       "      <th>Firearms Fired</th>\n",
       "      <th>Outcome: Made off/escaped</th>\n",
       "      <th>Outcome: Arrested</th>\n",
       "      <th>Outcome: Hospitalised</th>\n",
       "      <th>Outcome: Detained - Mental Health Act</th>\n",
       "      <th>Outcome: Fatality</th>\n",
       "      <th>Outcome: Other</th>\n",
       "    </tr>\n",
       "  </thead>\n",
       "  <tbody>\n",
       "    <tr>\n",
       "      <th>0</th>\n",
       "      <td>2017-04-01 00:42:00</td>\n",
       "      <td>City of Westminster</td>\n",
       "      <td>Licensed Premises</td>\n",
       "      <td>Other</td>\n",
       "      <td>18-34</td>\n",
       "      <td>Male</td>\n",
       "      <td>1</td>\n",
       "      <td>0</td>\n",
       "      <td>0</td>\n",
       "      <td>0</td>\n",
       "      <td>...</td>\n",
       "      <td>0.0</td>\n",
       "      <td>0.0</td>\n",
       "      <td>0</td>\n",
       "      <td>0</td>\n",
       "      <td>0</td>\n",
       "      <td>1</td>\n",
       "      <td>0</td>\n",
       "      <td>0</td>\n",
       "      <td>0</td>\n",
       "      <td>0</td>\n",
       "    </tr>\n",
       "    <tr>\n",
       "      <th>1</th>\n",
       "      <td>2017-04-01 04:15:00</td>\n",
       "      <td>Haringey</td>\n",
       "      <td>Street/Highway</td>\n",
       "      <td>White</td>\n",
       "      <td>35-49</td>\n",
       "      <td>Male</td>\n",
       "      <td>1</td>\n",
       "      <td>0</td>\n",
       "      <td>0</td>\n",
       "      <td>0</td>\n",
       "      <td>...</td>\n",
       "      <td>0.0</td>\n",
       "      <td>0.0</td>\n",
       "      <td>0</td>\n",
       "      <td>0</td>\n",
       "      <td>0</td>\n",
       "      <td>1</td>\n",
       "      <td>0</td>\n",
       "      <td>0</td>\n",
       "      <td>0</td>\n",
       "      <td>0</td>\n",
       "    </tr>\n",
       "    <tr>\n",
       "      <th>2</th>\n",
       "      <td>2017-04-01 03:55:00</td>\n",
       "      <td>Croydon</td>\n",
       "      <td>Street/Highway</td>\n",
       "      <td>White</td>\n",
       "      <td>18-34</td>\n",
       "      <td>Male</td>\n",
       "      <td>1</td>\n",
       "      <td>0</td>\n",
       "      <td>0</td>\n",
       "      <td>0</td>\n",
       "      <td>...</td>\n",
       "      <td>0.0</td>\n",
       "      <td>0.0</td>\n",
       "      <td>0</td>\n",
       "      <td>0</td>\n",
       "      <td>0</td>\n",
       "      <td>1</td>\n",
       "      <td>0</td>\n",
       "      <td>0</td>\n",
       "      <td>0</td>\n",
       "      <td>0</td>\n",
       "    </tr>\n",
       "    <tr>\n",
       "      <th>3</th>\n",
       "      <td>2017-04-01 04:10:00</td>\n",
       "      <td>Haringey</td>\n",
       "      <td>Street/Highway</td>\n",
       "      <td>White</td>\n",
       "      <td>18-34</td>\n",
       "      <td>Male</td>\n",
       "      <td>1</td>\n",
       "      <td>0</td>\n",
       "      <td>0</td>\n",
       "      <td>0</td>\n",
       "      <td>...</td>\n",
       "      <td>0.0</td>\n",
       "      <td>0.0</td>\n",
       "      <td>0</td>\n",
       "      <td>0</td>\n",
       "      <td>0</td>\n",
       "      <td>1</td>\n",
       "      <td>0</td>\n",
       "      <td>0</td>\n",
       "      <td>0</td>\n",
       "      <td>0</td>\n",
       "    </tr>\n",
       "    <tr>\n",
       "      <th>4</th>\n",
       "      <td>2017-04-01 11:29:00</td>\n",
       "      <td>Haringey</td>\n",
       "      <td>Street/Highway</td>\n",
       "      <td>Other</td>\n",
       "      <td>35-49</td>\n",
       "      <td>Male</td>\n",
       "      <td>1</td>\n",
       "      <td>0</td>\n",
       "      <td>0</td>\n",
       "      <td>0</td>\n",
       "      <td>...</td>\n",
       "      <td>0.0</td>\n",
       "      <td>0.0</td>\n",
       "      <td>0</td>\n",
       "      <td>0</td>\n",
       "      <td>0</td>\n",
       "      <td>1</td>\n",
       "      <td>0</td>\n",
       "      <td>0</td>\n",
       "      <td>0</td>\n",
       "      <td>0</td>\n",
       "    </tr>\n",
       "  </tbody>\n",
       "</table>\n",
       "<p>5 rows × 27 columns</p>\n",
       "</div>"
      ],
      "text/plain": [
       "             DateTime              Borough           Location  \\\n",
       "0 2017-04-01 00:42:00  City of Westminster  Licensed Premises   \n",
       "1 2017-04-01 04:15:00             Haringey     Street/Highway   \n",
       "2 2017-04-01 03:55:00              Croydon     Street/Highway   \n",
       "3 2017-04-01 04:10:00             Haringey     Street/Highway   \n",
       "4 2017-04-01 11:29:00             Haringey     Street/Highway   \n",
       "\n",
       "  SubjectEthnicity SubjectAge SubjectGender  Injury: None  Injury: Death  \\\n",
       "0            Other      18-34          Male             1              0   \n",
       "1            White      35-49          Male             1              0   \n",
       "2            White      18-34          Male             1              0   \n",
       "3            White      18-34          Male             1              0   \n",
       "4            Other      35-49          Male             1              0   \n",
       "\n",
       "   Injury: Minor  Injury: Severe  ...  CED Fired  CED Angle Drive Stun  \\\n",
       "0              0               0  ...        0.0                   0.0   \n",
       "1              0               0  ...        0.0                   0.0   \n",
       "2              0               0  ...        0.0                   0.0   \n",
       "3              0               0  ...        0.0                   0.0   \n",
       "4              0               0  ...        0.0                   0.0   \n",
       "\n",
       "   Firearms Aimed  Firearms Fired  Outcome: Made off/escaped  \\\n",
       "0               0               0                          0   \n",
       "1               0               0                          0   \n",
       "2               0               0                          0   \n",
       "3               0               0                          0   \n",
       "4               0               0                          0   \n",
       "\n",
       "   Outcome: Arrested  Outcome: Hospitalised  \\\n",
       "0                  1                      0   \n",
       "1                  1                      0   \n",
       "2                  1                      0   \n",
       "3                  1                      0   \n",
       "4                  1                      0   \n",
       "\n",
       "   Outcome: Detained - Mental Health Act  Outcome: Fatality  Outcome: Other  \n",
       "0                                      0                  0               0  \n",
       "1                                      0                  0               0  \n",
       "2                                      0                  0               0  \n",
       "3                                      0                  0               0  \n",
       "4                                      0                  0               0  \n",
       "\n",
       "[5 rows x 27 columns]"
      ]
     },
     "execution_count": 348,
     "metadata": {},
     "output_type": "execute_result"
    }
   ],
   "source": [
    "# selecting columns of interest for further analysis\n",
    "columns = ['DateTime', 'Borough', 'Location','SubjectEthnicity','SubjectAge','SubjectGender', \n",
    "        'Injury: None', 'Injury: Death', 'Injury: Minor', 'Injury: Severe',\n",
    "       'SubjectMedOffered', 'SubjectMedProvided', 'CED Drawn',\n",
    "       'CED Aimed', 'CED Red-Dotted', 'CED Arced','CED Drive Stun',\n",
    "       'CED Fired', 'CED Angle Drive Stun', 'Firearms Aimed', 'Firearms Fired',\n",
    "       'Outcome: Made off/escaped', 'Outcome: Arrested',\n",
    "       'Outcome: Hospitalised', 'Outcome: Detained - Mental Health Act',\n",
    "       'Outcome: Fatality', 'Outcome: Other']\n",
    "\n",
    "force_encoded = force_encoded[columns]\n",
    "force_encoded.head()"
   ]
  },
  {
   "cell_type": "markdown",
   "id": "db122b9d",
   "metadata": {},
   "source": [
    "As described by the Met Police, this data is not a count of police force incidents, rather each row represents use of force by one officer on a subject, so each subject may be represented more than once if more than one officer was involved.\n",
    "\n",
    "I want a count of individual police force incidents, so duplicate rows need to be dealt with, but I also want to keep information about the different types of force used against one subject, so some columns in the duplicate rows all need to be merged rather than just removing duplicates.\n",
    "\n",
    "I will define duplicates as rows that happen in the same borough and location, against a person of the same age, gender, and ethnicity within one hour of each other. This may miss some rows that are technically duplicates if the incident was particularly long, but it will catch most of them."
   ]
  },
  {
   "cell_type": "code",
   "execution_count": 15,
   "id": "5f869bf2",
   "metadata": {},
   "outputs": [
    {
     "name": "stdout",
     "output_type": "stream",
     "text": [
      "Percentage of dataset that is duplicates: 17.14%\n"
     ]
    }
   ],
   "source": [
    "# turning index into a column so that the index information isn't lost when grouping\n",
    "force_encoded = force_encoded.reset_index()\n",
    "\n",
    "# creating a new column with the incident time rounded to the nearest hour to check for duplicates\n",
    "force_encoded['Rounded Time'] = force_encoded['DateTime'].round('1H')\n",
    "\n",
    "# defining columns to check for duplication, and counting the percentage of duplicates\n",
    "duplicate_check = ['Rounded Time', 'Borough', 'Location', 'SubjectAge', 'SubjectGender', 'SubjectEthnicity']\n",
    "no_duplicates = force_encoded.duplicated(subset=duplicate_check).sum()\n",
    "print(\"Percentage of dataset that is duplicates: {:.2f}%\".format(no_duplicates*100/len(force_encoded)))"
   ]
  },
  {
   "cell_type": "code",
   "execution_count": 17,
   "id": "1c17fcc3",
   "metadata": {},
   "outputs": [],
   "source": [
    "# defining columns that need to be aggregated, i.e. all columns besides those being used to check duplication\n",
    "agg_cols = [col for col in force_encoded.columns.values if not col in duplicate_check]\n",
    "\n",
    "# defining aggregation method for each column: taking index and datetime of first duplicate instance\n",
    "    # and taking max value of all other columns, which corresponds to taking a 1 or 0 depending if that column is true\n",
    "agg_method = ['min' if col == 'index' or col == 'DateTime' else 'max' for col in agg_cols ]\n",
    "\n",
    "agg_dict = dict(zip(agg_cols, agg_method))\n",
    "\n",
    "# grouping the duplicates and aggregating the columns not used to check duplication as described\n",
    "duplicate_grouping = force_encoded.groupby(duplicate_check).agg(agg_dict)\n",
    "\n",
    "# resetting the index back to the index from original dataframe\n",
    "duplicate_grouping = duplicate_grouping.set_index('index')"
   ]
  },
  {
   "cell_type": "code",
   "execution_count": 18,
   "id": "d7dcb3bc",
   "metadata": {},
   "outputs": [
    {
     "name": "stdout",
     "output_type": "stream",
     "text": [
      "91177\n",
      "91177\n"
     ]
    }
   ],
   "source": [
    "# readding the columns that were used to check duplication, apart from rounded time as it is no longer needed\n",
    "    # as these were removed when resetting index\n",
    "duplicate_check.remove('Rounded Time')\n",
    "cols_readd = force_encoded[duplicate_check]\n",
    "\n",
    "incidents = cols_readd.join(duplicate_grouping, how='right')\n",
    "\n",
    "# checking that this method has dealt with the duplicate rows correctly by comparing to the .duplicated() function\n",
    "print(len(force_encoded) - len(incidents))\n",
    "print(no_duplicates)"
   ]
  },
  {
   "cell_type": "markdown",
   "id": "ea99b516",
   "metadata": {},
   "source": [
    "Below is the fully cleaned data set of only individual incidents, in time order, that will be used for the analysis:"
   ]
  },
  {
   "cell_type": "code",
   "execution_count": 347,
   "id": "7028dfa1",
   "metadata": {},
   "outputs": [
    {
     "data": {
      "text/html": [
       "<div>\n",
       "<style scoped>\n",
       "    .dataframe tbody tr th:only-of-type {\n",
       "        vertical-align: middle;\n",
       "    }\n",
       "\n",
       "    .dataframe tbody tr th {\n",
       "        vertical-align: top;\n",
       "    }\n",
       "\n",
       "    .dataframe thead th {\n",
       "        text-align: right;\n",
       "    }\n",
       "</style>\n",
       "<table border=\"1\" class=\"dataframe\">\n",
       "  <thead>\n",
       "    <tr style=\"text-align: right;\">\n",
       "      <th></th>\n",
       "      <th>Borough</th>\n",
       "      <th>Location</th>\n",
       "      <th>SubjectAge</th>\n",
       "      <th>SubjectGender</th>\n",
       "      <th>SubjectEthnicity</th>\n",
       "      <th>DateTime</th>\n",
       "      <th>Injury: None</th>\n",
       "      <th>Injury: Death</th>\n",
       "      <th>Injury: Minor</th>\n",
       "      <th>Injury: Severe</th>\n",
       "      <th>...</th>\n",
       "      <th>CED Fired</th>\n",
       "      <th>CED Angle Drive Stun</th>\n",
       "      <th>Firearms Aimed</th>\n",
       "      <th>Firearms Fired</th>\n",
       "      <th>Outcome: Made off/escaped</th>\n",
       "      <th>Outcome: Arrested</th>\n",
       "      <th>Outcome: Hospitalised</th>\n",
       "      <th>Outcome: Detained - Mental Health Act</th>\n",
       "      <th>Outcome: Fatality</th>\n",
       "      <th>Outcome: Other</th>\n",
       "    </tr>\n",
       "    <tr>\n",
       "      <th>index</th>\n",
       "      <th></th>\n",
       "      <th></th>\n",
       "      <th></th>\n",
       "      <th></th>\n",
       "      <th></th>\n",
       "      <th></th>\n",
       "      <th></th>\n",
       "      <th></th>\n",
       "      <th></th>\n",
       "      <th></th>\n",
       "      <th></th>\n",
       "      <th></th>\n",
       "      <th></th>\n",
       "      <th></th>\n",
       "      <th></th>\n",
       "      <th></th>\n",
       "      <th></th>\n",
       "      <th></th>\n",
       "      <th></th>\n",
       "      <th></th>\n",
       "      <th></th>\n",
       "    </tr>\n",
       "  </thead>\n",
       "  <tbody>\n",
       "    <tr>\n",
       "      <th>51</th>\n",
       "      <td>Enfield</td>\n",
       "      <td>Street/Highway</td>\n",
       "      <td>18-34</td>\n",
       "      <td>Female</td>\n",
       "      <td>White</td>\n",
       "      <td>2017-04-01 00:02:00</td>\n",
       "      <td>1</td>\n",
       "      <td>0</td>\n",
       "      <td>0</td>\n",
       "      <td>0</td>\n",
       "      <td>...</td>\n",
       "      <td>0.0</td>\n",
       "      <td>0.0</td>\n",
       "      <td>0</td>\n",
       "      <td>0</td>\n",
       "      <td>0</td>\n",
       "      <td>1</td>\n",
       "      <td>0</td>\n",
       "      <td>0</td>\n",
       "      <td>0</td>\n",
       "      <td>0</td>\n",
       "    </tr>\n",
       "    <tr>\n",
       "      <th>63</th>\n",
       "      <td>Sutton</td>\n",
       "      <td>Custody Block</td>\n",
       "      <td>18-34</td>\n",
       "      <td>Female</td>\n",
       "      <td>White</td>\n",
       "      <td>2017-04-01 00:10:00</td>\n",
       "      <td>1</td>\n",
       "      <td>0</td>\n",
       "      <td>0</td>\n",
       "      <td>0</td>\n",
       "      <td>...</td>\n",
       "      <td>0.0</td>\n",
       "      <td>0.0</td>\n",
       "      <td>0</td>\n",
       "      <td>0</td>\n",
       "      <td>0</td>\n",
       "      <td>1</td>\n",
       "      <td>0</td>\n",
       "      <td>0</td>\n",
       "      <td>0</td>\n",
       "      <td>0</td>\n",
       "    </tr>\n",
       "    <tr>\n",
       "      <th>15</th>\n",
       "      <td>Brent</td>\n",
       "      <td>Dwelling</td>\n",
       "      <td>18-34</td>\n",
       "      <td>Male</td>\n",
       "      <td>Black (or Black British)</td>\n",
       "      <td>2017-04-01 01:12:00</td>\n",
       "      <td>1</td>\n",
       "      <td>0</td>\n",
       "      <td>0</td>\n",
       "      <td>0</td>\n",
       "      <td>...</td>\n",
       "      <td>0.0</td>\n",
       "      <td>0.0</td>\n",
       "      <td>0</td>\n",
       "      <td>0</td>\n",
       "      <td>0</td>\n",
       "      <td>0</td>\n",
       "      <td>0</td>\n",
       "      <td>0</td>\n",
       "      <td>0</td>\n",
       "      <td>1</td>\n",
       "    </tr>\n",
       "    <tr>\n",
       "      <th>0</th>\n",
       "      <td>City of Westminster</td>\n",
       "      <td>Licensed Premises</td>\n",
       "      <td>18-34</td>\n",
       "      <td>Male</td>\n",
       "      <td>Other</td>\n",
       "      <td>2017-04-01 00:42:00</td>\n",
       "      <td>1</td>\n",
       "      <td>0</td>\n",
       "      <td>0</td>\n",
       "      <td>0</td>\n",
       "      <td>...</td>\n",
       "      <td>0.0</td>\n",
       "      <td>0.0</td>\n",
       "      <td>0</td>\n",
       "      <td>0</td>\n",
       "      <td>0</td>\n",
       "      <td>1</td>\n",
       "      <td>0</td>\n",
       "      <td>0</td>\n",
       "      <td>0</td>\n",
       "      <td>0</td>\n",
       "    </tr>\n",
       "    <tr>\n",
       "      <th>50</th>\n",
       "      <td>City of Westminster</td>\n",
       "      <td>Licensed Premises</td>\n",
       "      <td>18-34</td>\n",
       "      <td>Male</td>\n",
       "      <td>White</td>\n",
       "      <td>2017-04-01 00:45:00</td>\n",
       "      <td>1</td>\n",
       "      <td>0</td>\n",
       "      <td>0</td>\n",
       "      <td>0</td>\n",
       "      <td>...</td>\n",
       "      <td>0.0</td>\n",
       "      <td>0.0</td>\n",
       "      <td>0</td>\n",
       "      <td>0</td>\n",
       "      <td>0</td>\n",
       "      <td>1</td>\n",
       "      <td>0</td>\n",
       "      <td>0</td>\n",
       "      <td>0</td>\n",
       "      <td>0</td>\n",
       "    </tr>\n",
       "  </tbody>\n",
       "</table>\n",
       "<p>5 rows × 27 columns</p>\n",
       "</div>"
      ],
      "text/plain": [
       "                   Borough           Location SubjectAge SubjectGender  \\\n",
       "index                                                                    \n",
       "51                 Enfield     Street/Highway      18-34        Female   \n",
       "63                  Sutton      Custody Block      18-34        Female   \n",
       "15                   Brent           Dwelling      18-34          Male   \n",
       "0      City of Westminster  Licensed Premises      18-34          Male   \n",
       "50     City of Westminster  Licensed Premises      18-34          Male   \n",
       "\n",
       "               SubjectEthnicity            DateTime  Injury: None  \\\n",
       "index                                                               \n",
       "51                        White 2017-04-01 00:02:00             1   \n",
       "63                        White 2017-04-01 00:10:00             1   \n",
       "15     Black (or Black British) 2017-04-01 01:12:00             1   \n",
       "0                         Other 2017-04-01 00:42:00             1   \n",
       "50                        White 2017-04-01 00:45:00             1   \n",
       "\n",
       "       Injury: Death  Injury: Minor  Injury: Severe  ...  CED Fired  \\\n",
       "index                                                ...              \n",
       "51                 0              0               0  ...        0.0   \n",
       "63                 0              0               0  ...        0.0   \n",
       "15                 0              0               0  ...        0.0   \n",
       "0                  0              0               0  ...        0.0   \n",
       "50                 0              0               0  ...        0.0   \n",
       "\n",
       "       CED Angle Drive Stun  Firearms Aimed  Firearms Fired  \\\n",
       "index                                                         \n",
       "51                      0.0               0               0   \n",
       "63                      0.0               0               0   \n",
       "15                      0.0               0               0   \n",
       "0                       0.0               0               0   \n",
       "50                      0.0               0               0   \n",
       "\n",
       "       Outcome: Made off/escaped  Outcome: Arrested  Outcome: Hospitalised  \\\n",
       "index                                                                        \n",
       "51                             0                  1                      0   \n",
       "63                             0                  1                      0   \n",
       "15                             0                  0                      0   \n",
       "0                              0                  1                      0   \n",
       "50                             0                  1                      0   \n",
       "\n",
       "       Outcome: Detained - Mental Health Act  Outcome: Fatality  \\\n",
       "index                                                             \n",
       "51                                         0                  0   \n",
       "63                                         0                  0   \n",
       "15                                         0                  0   \n",
       "0                                          0                  0   \n",
       "50                                         0                  0   \n",
       "\n",
       "       Outcome: Other  \n",
       "index                  \n",
       "51                  0  \n",
       "63                  0  \n",
       "15                  1  \n",
       "0                   0  \n",
       "50                  0  \n",
       "\n",
       "[5 rows x 27 columns]"
      ]
     },
     "execution_count": 347,
     "metadata": {},
     "output_type": "execute_result"
    }
   ],
   "source": [
    "incidents.head()"
   ]
  },
  {
   "cell_type": "markdown",
   "id": "9c52ac79",
   "metadata": {},
   "source": [
    "## 1.2 ONS Population Estimates "
   ]
  },
  {
   "cell_type": "markdown",
   "id": "58901ad8",
   "metadata": {},
   "source": [
    "The dataset used to provide population estimates by ethnic group and borough will be the 2016 estimates from ONS https://www.ons.gov.uk/peoplepopulationandcommunity/populationandmigration/populationestimates/datasets/populationcharacteristicsresearchtables"
   ]
  },
  {
   "cell_type": "markdown",
   "id": "ca490531",
   "metadata": {},
   "source": [
    "This data will be used to contextualise the police Use of Force by ethnic group, as those numbers are relatively meaningless without comparison to London's population."
   ]
  },
  {
   "cell_type": "markdown",
   "id": "b6434d66",
   "metadata": {},
   "source": [
    "Unfortunately, population data is not produced frequently, so it is not possible to have time series data on population - detailed population data of London is only taken once a decade in the census. 2016 is the only population data estimate including ethnicity that could be found that is close to the time period of the Metropolitan Police data, which is why this data set was chosen, and luckily it is near the beggining of the range of the Met Police data, so should provide a good estimate, as population is unlikely to have changed considerably over a period of 1 to 5 years. However, it is still important to consider that population proportions by ethnicity may be changing which may impact the analysis - the only way to find this out would be to examine the 2021 census data when it is released in the future."
   ]
  },
  {
   "cell_type": "code",
   "execution_count": 20,
   "id": "30826398",
   "metadata": {
    "scrolled": true
   },
   "outputs": [
    {
     "data": {
      "text/html": [
       "<div>\n",
       "<style scoped>\n",
       "    .dataframe tbody tr th:only-of-type {\n",
       "        vertical-align: middle;\n",
       "    }\n",
       "\n",
       "    .dataframe tbody tr th {\n",
       "        vertical-align: top;\n",
       "    }\n",
       "\n",
       "    .dataframe thead th {\n",
       "        text-align: right;\n",
       "    }\n",
       "</style>\n",
       "<table border=\"1\" class=\"dataframe\">\n",
       "  <thead>\n",
       "    <tr style=\"text-align: right;\">\n",
       "      <th></th>\n",
       "      <th>Area Code</th>\n",
       "      <th>Area Name</th>\n",
       "      <th>2011 Census Supergroup</th>\n",
       "      <th>Total</th>\n",
       "      <th>White British</th>\n",
       "      <th>All Other White</th>\n",
       "      <th>Mixed / Multiple ethnic groups</th>\n",
       "      <th>Asian / Asian British</th>\n",
       "      <th>Black / African / Caribbean / Black British</th>\n",
       "      <th>Other ethnic group</th>\n",
       "      <th>Unnamed: 10</th>\n",
       "    </tr>\n",
       "  </thead>\n",
       "  <tbody>\n",
       "    <tr>\n",
       "      <th>0</th>\n",
       "      <td>NaN</td>\n",
       "      <td>NaN</td>\n",
       "      <td>NaN</td>\n",
       "      <td>NaN</td>\n",
       "      <td>NaN</td>\n",
       "      <td>NaN</td>\n",
       "      <td>NaN</td>\n",
       "      <td>NaN</td>\n",
       "      <td>NaN</td>\n",
       "      <td>NaN</td>\n",
       "      <td>NaN</td>\n",
       "    </tr>\n",
       "    <tr>\n",
       "      <th>1</th>\n",
       "      <td>NaN</td>\n",
       "      <td>England and Wales</td>\n",
       "      <td>NaN</td>\n",
       "      <td>58381.0</td>\n",
       "      <td>46424.0</td>\n",
       "      <td>3483.0</td>\n",
       "      <td>993.0</td>\n",
       "      <td>4459.0</td>\n",
       "      <td>1967.0</td>\n",
       "      <td>1055.0</td>\n",
       "      <td>NaN</td>\n",
       "    </tr>\n",
       "    <tr>\n",
       "      <th>2</th>\n",
       "      <td>NaN</td>\n",
       "      <td>NaN</td>\n",
       "      <td>NaN</td>\n",
       "      <td>NaN</td>\n",
       "      <td>NaN</td>\n",
       "      <td>NaN</td>\n",
       "      <td>NaN</td>\n",
       "      <td>NaN</td>\n",
       "      <td>NaN</td>\n",
       "      <td>NaN</td>\n",
       "      <td>NaN</td>\n",
       "    </tr>\n",
       "    <tr>\n",
       "      <th>3</th>\n",
       "      <td>E92000001</td>\n",
       "      <td>England</td>\n",
       "      <td>NaN</td>\n",
       "      <td>55268.0</td>\n",
       "      <td>43519.0</td>\n",
       "      <td>3407.0</td>\n",
       "      <td>968.0</td>\n",
       "      <td>4396.0</td>\n",
       "      <td>1946.0</td>\n",
       "      <td>1032.0</td>\n",
       "      <td>NaN</td>\n",
       "    </tr>\n",
       "    <tr>\n",
       "      <th>4</th>\n",
       "      <td>E12000001</td>\n",
       "      <td>North East</td>\n",
       "      <td>NaN</td>\n",
       "      <td>2637.0</td>\n",
       "      <td>2470.0</td>\n",
       "      <td>40.0</td>\n",
       "      <td>14.0</td>\n",
       "      <td>78.0</td>\n",
       "      <td>17.0</td>\n",
       "      <td>18.0</td>\n",
       "      <td>NaN</td>\n",
       "    </tr>\n",
       "  </tbody>\n",
       "</table>\n",
       "</div>"
      ],
      "text/plain": [
       "   Area Code          Area Name 2011 Census Supergroup    Total  \\\n",
       "0        NaN                NaN                    NaN      NaN   \n",
       "1        NaN  England and Wales                    NaN  58381.0   \n",
       "2        NaN                NaN                    NaN      NaN   \n",
       "3  E92000001            England                    NaN  55268.0   \n",
       "4  E12000001         North East                    NaN   2637.0   \n",
       "\n",
       "   White British  All Other White  Mixed / Multiple ethnic groups  \\\n",
       "0            NaN              NaN                             NaN   \n",
       "1        46424.0           3483.0                           993.0   \n",
       "2            NaN              NaN                             NaN   \n",
       "3        43519.0           3407.0                           968.0   \n",
       "4         2470.0             40.0                            14.0   \n",
       "\n",
       "   Asian / Asian British  Black / African / Caribbean / Black British  \\\n",
       "0                    NaN                                          NaN   \n",
       "1                 4459.0                                       1967.0   \n",
       "2                    NaN                                          NaN   \n",
       "3                 4396.0                                       1946.0   \n",
       "4                   78.0                                         17.0   \n",
       "\n",
       "   Other ethnic group  Unnamed: 10  \n",
       "0                 NaN          NaN  \n",
       "1              1055.0          NaN  \n",
       "2                 NaN          NaN  \n",
       "3              1032.0          NaN  \n",
       "4                18.0          NaN  "
      ]
     },
     "execution_count": 20,
     "metadata": {},
     "output_type": "execute_result"
    }
   ],
   "source": [
    "# reading data and simultaneously removing the comma in the numbers\n",
    "population = pd.read_csv('population_by_ethnicity.csv',thousands=',')\n",
    "population.head() # the population values are stored in 1000s"
   ]
  },
  {
   "cell_type": "code",
   "execution_count": 21,
   "id": "ee672418",
   "metadata": {},
   "outputs": [],
   "source": [
    "# dropping the columns that aren't of use\n",
    "population = population.drop([\"2011 Census Supergroup\", \"Unnamed: 10\"], axis=1)\n",
    "\n",
    "# multiplying numeric columns by 1000 so they represent the actual population numbers\n",
    "population[population.select_dtypes(include=['number']).columns] *= 1000\n",
    "\n",
    "# combining White British and All Other White columns and dropping them\n",
    "population['White'] = population['White British'] + population['All Other White']\n",
    "population = population.drop(['White British', 'All Other White'], axis = 1)\n",
    "\n",
    "# stripping leading whitespace from the beggining of the area names\n",
    "population['Area Name'] = population['Area Name'].str.lstrip()\n",
    "\n",
    "# defining a list of the London boroughs and selecting these only\n",
    "boroughs = ['Barking and Dagenham', 'Barnet', 'Bexley', 'Brent', 'Bromley', 'Camden',\n",
    " 'Croydon', 'Ealing', 'Enfield', 'Greenwich', 'Hackney',\n",
    " 'Hammersmith and Fulham', 'Haringey', 'Harrow', 'Havering', 'Hillingdon',\n",
    " 'Hounslow', 'Islington', 'Kensington and Chelsea', 'Kingston upon Thames',\n",
    " 'Lambeth', 'Lewisham', 'Merton', 'Newham', 'Redbridge', 'Richmond upon Thames',\n",
    " 'Southwark', 'Sutton', 'Tower Hamlets', 'Waltham Forest', 'Wandsworth', 'Westminster']\n",
    "population_boroughs = population[population['Area Name'].isin(boroughs)]\n",
    "\n",
    "# selecting the values for London overall \n",
    "population_london = population[population['Area Name'] == 'London']"
   ]
  },
  {
   "cell_type": "code",
   "execution_count": 22,
   "id": "7efc3d97",
   "metadata": {},
   "outputs": [
    {
     "data": {
      "text/html": [
       "<div>\n",
       "<style scoped>\n",
       "    .dataframe tbody tr th:only-of-type {\n",
       "        vertical-align: middle;\n",
       "    }\n",
       "\n",
       "    .dataframe tbody tr th {\n",
       "        vertical-align: top;\n",
       "    }\n",
       "\n",
       "    .dataframe thead th {\n",
       "        text-align: right;\n",
       "    }\n",
       "</style>\n",
       "<table border=\"1\" class=\"dataframe\">\n",
       "  <thead>\n",
       "    <tr style=\"text-align: right;\">\n",
       "      <th></th>\n",
       "      <th>Area Code</th>\n",
       "      <th>Area Name</th>\n",
       "      <th>Total</th>\n",
       "      <th>Mixed / Multiple ethnic groups</th>\n",
       "      <th>Asian / Asian British</th>\n",
       "      <th>Black / African / Caribbean / Black British</th>\n",
       "      <th>Other ethnic group</th>\n",
       "      <th>White</th>\n",
       "    </tr>\n",
       "  </thead>\n",
       "  <tbody>\n",
       "    <tr>\n",
       "      <th>221</th>\n",
       "      <td>E12000007</td>\n",
       "      <td>London</td>\n",
       "      <td>8769000.0</td>\n",
       "      <td>326000.0</td>\n",
       "      <td>1611000.0</td>\n",
       "      <td>1095000.0</td>\n",
       "      <td>531000.0</td>\n",
       "      <td>5206000.0</td>\n",
       "    </tr>\n",
       "  </tbody>\n",
       "</table>\n",
       "</div>"
      ],
      "text/plain": [
       "     Area Code Area Name      Total  Mixed / Multiple ethnic groups  \\\n",
       "221  E12000007    London  8769000.0                        326000.0   \n",
       "\n",
       "     Asian / Asian British  Black / African / Caribbean / Black British  \\\n",
       "221              1611000.0                                    1095000.0   \n",
       "\n",
       "     Other ethnic group      White  \n",
       "221            531000.0  5206000.0  "
      ]
     },
     "execution_count": 22,
     "metadata": {},
     "output_type": "execute_result"
    }
   ],
   "source": [
    "population_london"
   ]
  },
  {
   "cell_type": "markdown",
   "id": "0fbcd611",
   "metadata": {},
   "source": [
    "## 1.3 Public Perception Data"
   ]
  },
  {
   "cell_type": "markdown",
   "id": "2bb01419",
   "metadata": {},
   "source": [
    "The next dataset used will be from The Mayor's Office for Policing And Crime (MOPAC), specifically their regular survey about public perceptions of the police. This data was actually quite hard to retrieve, and had to be downloaded from MOPAC's Public Voice Tableau Dashboard: https://www.london.gov.uk/what-we-do/mayors-office-policing-and-crime-mopac/data-and-statistics/public-voice-dashboard"
   ]
  },
  {
   "cell_type": "markdown",
   "id": "4885a079",
   "metadata": {},
   "source": [
    "The data is taken over time, and lines up with the period of the Met Police data."
   ]
  },
  {
   "cell_type": "code",
   "execution_count": 344,
   "id": "2e91cec1",
   "metadata": {},
   "outputs": [
    {
     "data": {
      "text/html": [
       "<div>\n",
       "<style scoped>\n",
       "    .dataframe tbody tr th:only-of-type {\n",
       "        vertical-align: middle;\n",
       "    }\n",
       "\n",
       "    .dataframe tbody tr th {\n",
       "        vertical-align: top;\n",
       "    }\n",
       "\n",
       "    .dataframe thead th {\n",
       "        text-align: right;\n",
       "    }\n",
       "</style>\n",
       "<table border=\"1\" class=\"dataframe\">\n",
       "  <thead>\n",
       "    <tr style=\"text-align: right;\">\n",
       "      <th></th>\n",
       "      <th>﻿Area</th>\n",
       "      <th>Characteristic</th>\n",
       "      <th>Date</th>\n",
       "      <th>Measure</th>\n",
       "      <th>Survey</th>\n",
       "      <th>Base</th>\n",
       "      <th>MPS Total</th>\n",
       "      <th>Number of Records</th>\n",
       "      <th>Proportion</th>\n",
       "    </tr>\n",
       "  </thead>\n",
       "  <tbody>\n",
       "    <tr>\n",
       "      <th>0</th>\n",
       "      <td>Age</td>\n",
       "      <td>24 and under</td>\n",
       "      <td>31/12/2014</td>\n",
       "      <td>\"Good Job\" local - Police do a good job in the...</td>\n",
       "      <td>PAS</td>\n",
       "      <td>1303.0</td>\n",
       "      <td>NaN</td>\n",
       "      <td>1</td>\n",
       "      <td>64%</td>\n",
       "    </tr>\n",
       "    <tr>\n",
       "      <th>1</th>\n",
       "      <td>Age</td>\n",
       "      <td>24 and under</td>\n",
       "      <td>31/12/2014</td>\n",
       "      <td>Ward officer - Knows how to contact their loca...</td>\n",
       "      <td>PAS</td>\n",
       "      <td>1356.0</td>\n",
       "      <td>NaN</td>\n",
       "      <td>1</td>\n",
       "      <td>35%</td>\n",
       "    </tr>\n",
       "    <tr>\n",
       "      <th>2</th>\n",
       "      <td>Age</td>\n",
       "      <td>24 and under</td>\n",
       "      <td>31/12/2014</td>\n",
       "      <td>Informed local - Feels well informed about loc...</td>\n",
       "      <td>PAS</td>\n",
       "      <td>1277.0</td>\n",
       "      <td>NaN</td>\n",
       "      <td>1</td>\n",
       "      <td>38%</td>\n",
       "    </tr>\n",
       "    <tr>\n",
       "      <th>3</th>\n",
       "      <td>Age</td>\n",
       "      <td>24 and under</td>\n",
       "      <td>31/12/2014</td>\n",
       "      <td>Listen concerns - Agree the police listen to t...</td>\n",
       "      <td>PAS</td>\n",
       "      <td>1203.0</td>\n",
       "      <td>NaN</td>\n",
       "      <td>1</td>\n",
       "      <td>66%</td>\n",
       "    </tr>\n",
       "    <tr>\n",
       "      <th>4</th>\n",
       "      <td>Age</td>\n",
       "      <td>24 and under</td>\n",
       "      <td>31/12/2014</td>\n",
       "      <td>Relied on - Agree the police can be relied upo...</td>\n",
       "      <td>PAS</td>\n",
       "      <td>1314.0</td>\n",
       "      <td>NaN</td>\n",
       "      <td>1</td>\n",
       "      <td>75%</td>\n",
       "    </tr>\n",
       "  </tbody>\n",
       "</table>\n",
       "</div>"
      ],
      "text/plain": [
       "  ﻿Area Characteristic        Date  \\\n",
       "0   Age   24 and under  31/12/2014   \n",
       "1   Age   24 and under  31/12/2014   \n",
       "2   Age   24 and under  31/12/2014   \n",
       "3   Age   24 and under  31/12/2014   \n",
       "4   Age   24 and under  31/12/2014   \n",
       "\n",
       "                                             Measure Survey    Base  \\\n",
       "0  \"Good Job\" local - Police do a good job in the...    PAS  1303.0   \n",
       "1  Ward officer - Knows how to contact their loca...    PAS  1356.0   \n",
       "2  Informed local - Feels well informed about loc...    PAS  1277.0   \n",
       "3  Listen concerns - Agree the police listen to t...    PAS  1203.0   \n",
       "4  Relied on - Agree the police can be relied upo...    PAS  1314.0   \n",
       "\n",
       "   MPS Total  Number of Records Proportion  \n",
       "0        NaN                  1        64%  \n",
       "1        NaN                  1        35%  \n",
       "2        NaN                  1        38%  \n",
       "3        NaN                  1        66%  \n",
       "4        NaN                  1        75%  "
      ]
     },
     "execution_count": 344,
     "metadata": {},
     "output_type": "execute_result"
    }
   ],
   "source": [
    "# reading the data and examining questions ask to find which ones are of interest\n",
    "perception = pd.read_csv('percept_demographic.csv', thousands=',')\n",
    "perception.head()"
   ]
  },
  {
   "cell_type": "code",
   "execution_count": 345,
   "id": "6fc31a20",
   "metadata": {},
   "outputs": [
    {
     "data": {
      "text/plain": [
       "array(['\"Good Job\" local - Police do a good job in the local area',\n",
       "       'Ward officer - Knows how to contact their local ward officer',\n",
       "       'Informed local - Feels well informed about local police activities over the last 12 months',\n",
       "       'Listen concerns - Agree the police listen to the concerns of local people',\n",
       "       'Relied on - Agree the police can be relied upon to be there when needed',\n",
       "       'Treat everyone fairly - Agree the police treat everyone fairly regardless of who they are',\n",
       "       'Understand issues - Agree the police are dealing with the things that matter to this community'],\n",
       "      dtype=object)"
      ]
     },
     "execution_count": 345,
     "metadata": {},
     "output_type": "execute_result"
    }
   ],
   "source": [
    "perception['Measure'].unique()"
   ]
  },
  {
   "cell_type": "markdown",
   "id": "7ada6007",
   "metadata": {},
   "source": [
    "The only question that will be examined from this data is 'Agree the police treat everyone fairly regardless of who they are', as this is the one that most directly relates to the questions asked by this project."
   ]
  },
  {
   "cell_type": "code",
   "execution_count": 346,
   "id": "a20efda5",
   "metadata": {},
   "outputs": [
    {
     "data": {
      "text/html": [
       "<div>\n",
       "<style scoped>\n",
       "    .dataframe tbody tr th:only-of-type {\n",
       "        vertical-align: middle;\n",
       "    }\n",
       "\n",
       "    .dataframe tbody tr th {\n",
       "        vertical-align: top;\n",
       "    }\n",
       "\n",
       "    .dataframe thead th {\n",
       "        text-align: right;\n",
       "    }\n",
       "</style>\n",
       "<table border=\"1\" class=\"dataframe\">\n",
       "  <thead>\n",
       "    <tr style=\"text-align: right;\">\n",
       "      <th></th>\n",
       "      <th>Characteristic</th>\n",
       "      <th>Date</th>\n",
       "      <th>Base</th>\n",
       "      <th>Proportion</th>\n",
       "    </tr>\n",
       "  </thead>\n",
       "  <tbody>\n",
       "    <tr>\n",
       "      <th>0</th>\n",
       "      <td>Asian</td>\n",
       "      <td>2014-12-31</td>\n",
       "      <td>1196.0</td>\n",
       "      <td>79.0</td>\n",
       "    </tr>\n",
       "    <tr>\n",
       "      <th>1</th>\n",
       "      <td>Black</td>\n",
       "      <td>2014-12-31</td>\n",
       "      <td>860.0</td>\n",
       "      <td>67.0</td>\n",
       "    </tr>\n",
       "    <tr>\n",
       "      <th>2</th>\n",
       "      <td>Mixed ethnicity</td>\n",
       "      <td>2014-12-31</td>\n",
       "      <td>196.0</td>\n",
       "      <td>63.0</td>\n",
       "    </tr>\n",
       "    <tr>\n",
       "      <th>3</th>\n",
       "      <td>Other</td>\n",
       "      <td>2014-12-31</td>\n",
       "      <td>170.0</td>\n",
       "      <td>80.0</td>\n",
       "    </tr>\n",
       "    <tr>\n",
       "      <th>4</th>\n",
       "      <td>White British</td>\n",
       "      <td>2014-12-31</td>\n",
       "      <td>3318.0</td>\n",
       "      <td>70.0</td>\n",
       "    </tr>\n",
       "  </tbody>\n",
       "</table>\n",
       "</div>"
      ],
      "text/plain": [
       "    Characteristic        Date    Base  Proportion\n",
       "0            Asian  2014-12-31  1196.0        79.0\n",
       "1            Black  2014-12-31   860.0        67.0\n",
       "2  Mixed ethnicity  2014-12-31   196.0        63.0\n",
       "3            Other  2014-12-31   170.0        80.0\n",
       "4    White British  2014-12-31  3318.0        70.0"
      ]
     },
     "execution_count": 346,
     "metadata": {},
     "output_type": "execute_result"
    }
   ],
   "source": [
    "# selecting only question of interest\n",
    "perception = perception[perception['Measure'] \n",
    "                == 'Treat everyone fairly - Agree the police treat everyone fairly regardless of who they are']\n",
    "\n",
    "# removing leading character from Area column name\n",
    "perception = perception.rename(columns={'\\ufeffArea':'Area'})\n",
    "\n",
    "# selecting only groups relating to ethnicity, the key area of interest\n",
    "perception = perception[perception['Area'] == 'Ethnicity'].reset_index()\n",
    "\n",
    "# selecting columns of interest\n",
    "columns = ['Characteristic', 'Date','Base', 'Proportion']\n",
    "perception = perception[columns]\n",
    "\n",
    "# formatting proportion column as a float\n",
    "perception['Proportion'] = perception['Proportion'].str.rstrip('%').astype('float')\n",
    "\n",
    "# formatting Date column as datetime object and only keeping dates in desired range\n",
    "perception['Date'] =  pd.to_datetime(perception['Date'], format='%d/%m/%Y').dt.date\n",
    "\n",
    "perception.head()"
   ]
  },
  {
   "cell_type": "markdown",
   "id": "2ca23ca7",
   "metadata": {},
   "source": [
    "We can see that MOPAC has not provided the number of people surveyed (see 'Base' column) for most of the desired time range, so we will try to extrapolate some values."
   ]
  },
  {
   "cell_type": "code",
   "execution_count": 432,
   "id": "c96ffa39",
   "metadata": {},
   "outputs": [
    {
     "data": {
      "text/plain": [
       "<AxesSubplot:xlabel='Date', ylabel='Base'>"
      ]
     },
     "execution_count": 432,
     "metadata": {},
     "output_type": "execute_result"
    },
    {
     "data": {
      "image/png": "[encoded data removed]",
      "text/plain": [
       "<Figure size 811.44x504 with 1 Axes>"
      ]
     },
     "metadata": {
      "needs_background": "light"
     },
     "output_type": "display_data"
    }
   ],
   "source": [
    "plt.figure(figsize=(7*1.61,7))\n",
    "sns.lineplot(x=perception['Date'], y=perception['Base'], hue=perception['Characteristic'], marker='o')"
   ]
  },
  {
   "cell_type": "markdown",
   "id": "0d809326",
   "metadata": {},
   "source": [
    "The above figure shows that the number of people responding to the survey seems to be levelling out, so I will impute using the mean of all the points since 2015-07, since I do not see a reason why the number of respondents would change drastically over just a few years. However, it is important to note that this kind of imputation has limitations, especially as we are extrapolating the values from very few data points."
   ]
  },
  {
   "cell_type": "code",
   "execution_count": 27,
   "id": "762db354",
   "metadata": {},
   "outputs": [],
   "source": [
    "# setting range of base values to use for imputation\n",
    "start_date = pd.to_datetime(\"2015-06-30\").date()\n",
    "end_date = pd.to_datetime(\"2017-01-01\").date()\n",
    "mean_range = perception[perception['Date']>=start_date]\n",
    "mean_range = mean_range[mean_range['Date']<=end_date]\n",
    "\n",
    "# calculating mean to nearest integer for each racial group and imputing\n",
    "for char in perception['Characteristic'].unique():\n",
    "    mean = mean_range[mean_range['Characteristic'] == char]['Base'].mean()\n",
    "    perception[perception['Characteristic'] == char] =\\\n",
    "        perception[perception['Characteristic'] == char].fillna(value=round(mean))"
   ]
  },
  {
   "cell_type": "markdown",
   "id": "018f0cf9",
   "metadata": {},
   "source": [
    "## 1.4 Metropolitan Police Crime Data"
   ]
  },
  {
   "cell_type": "markdown",
   "id": "28339cee",
   "metadata": {},
   "source": [
    "The next dataset used will be the Metropoliatan Police's crime data. This is provided monthly, and gives the number of crimes in each borough in each crime category. This data will be used to see if there is a relationship between police use of force and crime, especially violent crime."
   ]
  },
  {
   "cell_type": "code",
   "execution_count": 342,
   "id": "f1b5103c",
   "metadata": {},
   "outputs": [
    {
     "data": {
      "text/html": [
       "<div>\n",
       "<style scoped>\n",
       "    .dataframe tbody tr th:only-of-type {\n",
       "        vertical-align: middle;\n",
       "    }\n",
       "\n",
       "    .dataframe tbody tr th {\n",
       "        vertical-align: top;\n",
       "    }\n",
       "\n",
       "    .dataframe thead th {\n",
       "        text-align: right;\n",
       "    }\n",
       "</style>\n",
       "<table border=\"1\" class=\"dataframe\">\n",
       "  <thead>\n",
       "    <tr style=\"text-align: right;\">\n",
       "      <th></th>\n",
       "      <th>Borough</th>\n",
       "      <th>MajorText</th>\n",
       "      <th>MinorText</th>\n",
       "      <th>201201</th>\n",
       "      <th>201202</th>\n",
       "      <th>201203</th>\n",
       "      <th>201204</th>\n",
       "      <th>201205</th>\n",
       "      <th>201206</th>\n",
       "      <th>201207</th>\n",
       "      <th>...</th>\n",
       "      <th>202102</th>\n",
       "      <th>202103</th>\n",
       "      <th>202104</th>\n",
       "      <th>202105</th>\n",
       "      <th>202106</th>\n",
       "      <th>202107</th>\n",
       "      <th>202108</th>\n",
       "      <th>202109</th>\n",
       "      <th>202110</th>\n",
       "      <th>202111</th>\n",
       "    </tr>\n",
       "  </thead>\n",
       "  <tbody>\n",
       "    <tr>\n",
       "      <th>0</th>\n",
       "      <td>Aviation Security(SO18)</td>\n",
       "      <td>NaN</td>\n",
       "      <td>Distraction Burglary</td>\n",
       "      <td>0</td>\n",
       "      <td>0</td>\n",
       "      <td>0</td>\n",
       "      <td>0</td>\n",
       "      <td>0</td>\n",
       "      <td>0</td>\n",
       "      <td>0</td>\n",
       "      <td>...</td>\n",
       "      <td>0</td>\n",
       "      <td>0</td>\n",
       "      <td>0</td>\n",
       "      <td>0</td>\n",
       "      <td>0</td>\n",
       "      <td>0</td>\n",
       "      <td>0</td>\n",
       "      <td>0</td>\n",
       "      <td>0</td>\n",
       "      <td>0</td>\n",
       "    </tr>\n",
       "    <tr>\n",
       "      <th>1</th>\n",
       "      <td>Aviation Security(SO18)</td>\n",
       "      <td>Burglary</td>\n",
       "      <td>Burglary - Business and Community</td>\n",
       "      <td>0</td>\n",
       "      <td>0</td>\n",
       "      <td>0</td>\n",
       "      <td>0</td>\n",
       "      <td>0</td>\n",
       "      <td>0</td>\n",
       "      <td>1</td>\n",
       "      <td>...</td>\n",
       "      <td>0</td>\n",
       "      <td>0</td>\n",
       "      <td>0</td>\n",
       "      <td>0</td>\n",
       "      <td>0</td>\n",
       "      <td>0</td>\n",
       "      <td>0</td>\n",
       "      <td>0</td>\n",
       "      <td>1</td>\n",
       "      <td>0</td>\n",
       "    </tr>\n",
       "    <tr>\n",
       "      <th>2</th>\n",
       "      <td>Aviation Security(SO18)</td>\n",
       "      <td>Burglary</td>\n",
       "      <td>Burglary - Residential</td>\n",
       "      <td>0</td>\n",
       "      <td>0</td>\n",
       "      <td>0</td>\n",
       "      <td>0</td>\n",
       "      <td>0</td>\n",
       "      <td>0</td>\n",
       "      <td>0</td>\n",
       "      <td>...</td>\n",
       "      <td>0</td>\n",
       "      <td>0</td>\n",
       "      <td>0</td>\n",
       "      <td>0</td>\n",
       "      <td>0</td>\n",
       "      <td>0</td>\n",
       "      <td>0</td>\n",
       "      <td>0</td>\n",
       "      <td>0</td>\n",
       "      <td>0</td>\n",
       "    </tr>\n",
       "    <tr>\n",
       "      <th>3</th>\n",
       "      <td>Aviation Security(SO18)</td>\n",
       "      <td>Criminal Damage</td>\n",
       "      <td>Criminal Damage To Dwelling</td>\n",
       "      <td>0</td>\n",
       "      <td>0</td>\n",
       "      <td>0</td>\n",
       "      <td>0</td>\n",
       "      <td>0</td>\n",
       "      <td>0</td>\n",
       "      <td>0</td>\n",
       "      <td>...</td>\n",
       "      <td>0</td>\n",
       "      <td>0</td>\n",
       "      <td>0</td>\n",
       "      <td>0</td>\n",
       "      <td>0</td>\n",
       "      <td>0</td>\n",
       "      <td>0</td>\n",
       "      <td>0</td>\n",
       "      <td>0</td>\n",
       "      <td>0</td>\n",
       "    </tr>\n",
       "    <tr>\n",
       "      <th>4</th>\n",
       "      <td>Aviation Security(SO18)</td>\n",
       "      <td>Criminal Damage</td>\n",
       "      <td>Criminal Damage To Motor Vehicle</td>\n",
       "      <td>2</td>\n",
       "      <td>3</td>\n",
       "      <td>3</td>\n",
       "      <td>5</td>\n",
       "      <td>2</td>\n",
       "      <td>5</td>\n",
       "      <td>4</td>\n",
       "      <td>...</td>\n",
       "      <td>2</td>\n",
       "      <td>0</td>\n",
       "      <td>1</td>\n",
       "      <td>0</td>\n",
       "      <td>2</td>\n",
       "      <td>2</td>\n",
       "      <td>1</td>\n",
       "      <td>1</td>\n",
       "      <td>2</td>\n",
       "      <td>6</td>\n",
       "    </tr>\n",
       "  </tbody>\n",
       "</table>\n",
       "<p>5 rows × 122 columns</p>\n",
       "</div>"
      ],
      "text/plain": [
       "                   Borough        MajorText  \\\n",
       "0  Aviation Security(SO18)              NaN   \n",
       "1  Aviation Security(SO18)         Burglary   \n",
       "2  Aviation Security(SO18)         Burglary   \n",
       "3  Aviation Security(SO18)  Criminal Damage   \n",
       "4  Aviation Security(SO18)  Criminal Damage   \n",
       "\n",
       "                           MinorText  201201  201202  201203  201204  201205  \\\n",
       "0               Distraction Burglary       0       0       0       0       0   \n",
       "1  Burglary - Business and Community       0       0       0       0       0   \n",
       "2             Burglary - Residential       0       0       0       0       0   \n",
       "3        Criminal Damage To Dwelling       0       0       0       0       0   \n",
       "4   Criminal Damage To Motor Vehicle       2       3       3       5       2   \n",
       "\n",
       "   201206  201207  ...  202102  202103  202104  202105  202106  202107  \\\n",
       "0       0       0  ...       0       0       0       0       0       0   \n",
       "1       0       1  ...       0       0       0       0       0       0   \n",
       "2       0       0  ...       0       0       0       0       0       0   \n",
       "3       0       0  ...       0       0       0       0       0       0   \n",
       "4       5       4  ...       2       0       1       0       2       2   \n",
       "\n",
       "   202108  202109  202110  202111  \n",
       "0       0       0       0       0  \n",
       "1       0       0       1       0  \n",
       "2       0       0       0       0  \n",
       "3       0       0       0       0  \n",
       "4       1       1       2       6  \n",
       "\n",
       "[5 rows x 122 columns]"
      ]
     },
     "execution_count": 342,
     "metadata": {},
     "output_type": "execute_result"
    }
   ],
   "source": [
    "crime = pd.read_csv(\"Monthly Crime Borough Level Offs Type.csv\")\n",
    "crime.head()"
   ]
  },
  {
   "cell_type": "code",
   "execution_count": 29,
   "id": "b1ef248b",
   "metadata": {},
   "outputs": [],
   "source": [
    "# getting months in desired range to match Use of Force Data\n",
    "start_col = crime.columns.get_loc('201704')\n",
    "end_col = crime.columns.get_loc('202103')\n",
    "\n",
    "# getting borough, major text, and all columns in date range\n",
    "col_indices = [0] + [1] + [i for i in range(start_col, end_col+1)]\n",
    "crime = crime.iloc[:, col_indices]\n",
    "\n",
    "# dropping crimes in Borough category \"aviation security\", as this analysis is only inetrested in the actual city\n",
    "crime = crime[crime['Borough'] != 'Aviation Security(SO18)']\n",
    "\n",
    "# grouping the crime by major crime type\n",
    "crime_bytype = crime.groupby('MajorText').sum()\n",
    "\n",
    "# changing the column names to datetime format, set at the last day of the month\n",
    "col_names = crime_bytype.columns.values\n",
    "cols_datetime = pd.to_datetime(col_names, format='%Y%m') + pd.offsets.MonthEnd()\n",
    "\n",
    "col_dict = dict(zip(col_names, cols_datetime))\n",
    "crime_bytype = crime_bytype.rename(columns = col_dict)\n",
    "\n",
    "# transposing the dataframe so that time is the rows and crime type is the columns, and renaming columns to make sense\n",
    "crime_bytype = crime_bytype.transpose().reset_index()\n",
    "crime_bytype = crime_bytype.rename(columns={'index': 'Date'})"
   ]
  },
  {
   "cell_type": "markdown",
   "id": "05adac66",
   "metadata": {},
   "source": [
    "I am interested in the difference between violent crime and non-violent crime, so I will aggregate columns to get the totals for each of these categories, along with the total crime each month. I am defininf 'violent crime' as crime that falls into the category of 'Violence Against The Person', and all other categories will count as non-violent crime. The met police crime definitions can be seen here: https://www.met.police.uk/sd/stats-and-data/met/crime-type-definitions/"
   ]
  },
  {
   "cell_type": "code",
   "execution_count": 30,
   "id": "1fa3cdaf",
   "metadata": {},
   "outputs": [
    {
     "data": {
      "text/html": [
       "<div>\n",
       "<style scoped>\n",
       "    .dataframe tbody tr th:only-of-type {\n",
       "        vertical-align: middle;\n",
       "    }\n",
       "\n",
       "    .dataframe tbody tr th {\n",
       "        vertical-align: top;\n",
       "    }\n",
       "\n",
       "    .dataframe thead th {\n",
       "        text-align: right;\n",
       "    }\n",
       "</style>\n",
       "<table border=\"1\" class=\"dataframe\">\n",
       "  <thead>\n",
       "    <tr style=\"text-align: right;\">\n",
       "      <th></th>\n",
       "      <th>Date</th>\n",
       "      <th>Violent Crime</th>\n",
       "      <th>Non-Violent Crime</th>\n",
       "      <th>Total Crime</th>\n",
       "    </tr>\n",
       "  </thead>\n",
       "  <tbody>\n",
       "    <tr>\n",
       "      <th>0</th>\n",
       "      <td>2017-04-30</td>\n",
       "      <td>19614</td>\n",
       "      <td>45682</td>\n",
       "      <td>65296</td>\n",
       "    </tr>\n",
       "    <tr>\n",
       "      <th>1</th>\n",
       "      <td>2017-05-31</td>\n",
       "      <td>21937</td>\n",
       "      <td>49132</td>\n",
       "      <td>71069</td>\n",
       "    </tr>\n",
       "    <tr>\n",
       "      <th>2</th>\n",
       "      <td>2017-06-30</td>\n",
       "      <td>22929</td>\n",
       "      <td>47235</td>\n",
       "      <td>70164</td>\n",
       "    </tr>\n",
       "    <tr>\n",
       "      <th>3</th>\n",
       "      <td>2017-07-31</td>\n",
       "      <td>23268</td>\n",
       "      <td>50451</td>\n",
       "      <td>73719</td>\n",
       "    </tr>\n",
       "    <tr>\n",
       "      <th>4</th>\n",
       "      <td>2017-08-31</td>\n",
       "      <td>20459</td>\n",
       "      <td>49461</td>\n",
       "      <td>69920</td>\n",
       "    </tr>\n",
       "  </tbody>\n",
       "</table>\n",
       "</div>"
      ],
      "text/plain": [
       "        Date  Violent Crime  Non-Violent Crime  Total Crime\n",
       "0 2017-04-30          19614              45682        65296\n",
       "1 2017-05-31          21937              49132        71069\n",
       "2 2017-06-30          22929              47235        70164\n",
       "3 2017-07-31          23268              50451        73719\n",
       "4 2017-08-31          20459              49461        69920"
      ]
     },
     "execution_count": 30,
     "metadata": {},
     "output_type": "execute_result"
    }
   ],
   "source": [
    "# creating dataframe summarising total crime by violent and non-violent each month\n",
    "crime_totals = pd.DataFrame()\n",
    "total_cols = crime_bytype.columns.values.tolist()\n",
    "total_cols.remove('Date')\n",
    "non_violent_cols = total_cols[:]\n",
    "non_violent_cols.remove('Violence Against the Person')\n",
    "\n",
    "crime_totals['Date'] = crime_bytype['Date']\n",
    "crime_totals['Violent Crime'] = crime_bytype['Violence Against the Person']\n",
    "crime_totals['Non-Violent Crime'] = crime_bytype[non_violent_cols].sum(axis=1)\n",
    "crime_totals['Total Crime'] = crime_bytype[total_cols].sum(axis=1)\n",
    "\n",
    "crime_totals.head()"
   ]
  },
  {
   "cell_type": "markdown",
   "id": "f4cf8bdb",
   "metadata": {},
   "source": [
    "# 2. Do people feel that the Metropolitan Police treat people fairly, regardless of race?"
   ]
  },
  {
   "cell_type": "markdown",
   "id": "8441caad",
   "metadata": {},
   "source": [
    "This section will use the police perception data to try and answer the key question above."
   ]
  },
  {
   "cell_type": "code",
   "execution_count": 430,
   "id": "2af9e7e0",
   "metadata": {
    "scrolled": false
   },
   "outputs": [
    {
     "data": {
      "image/png": "[encoded data removed]",
      "text/plain": [
       "<Figure size 811.44x504 with 1 Axes>"
      ]
     },
     "metadata": {
      "needs_background": "light"
     },
     "output_type": "display_data"
    }
   ],
   "source": [
    "# Plotting the proportion of people who believe that the police treat people fairly, by, race, over time\n",
    "plt.figure(figsize=(7*1.61,7))\n",
    "\n",
    "axes = sns.lineplot(x=perception['Date'], y=perception['Proportion'], hue=perception['Characteristic'], marker ='o')\n",
    "\n",
    "axes.xaxis.set_major_locator(mdates.MonthLocator(interval=3, bymonthday=30))\n",
    "plt.xticks(fontsize = 12, rotation=65, ha='center')\n",
    "plt.xlim(perception['Date'].iloc[0], perception['Date'].iloc[-1])\n",
    "\n",
    "ylabs = [str(i) +'%' for i in range(45,90,5)]\n",
    "ylocs = [i for i in range(45,90,5)]\n",
    "plt.yticks(ylocs,ylabs, fontsize = 12)\n",
    "\n",
    "\n",
    "plt.legend(fontsize = 12)\n",
    "plt.xlabel('Survey Date', fontsize = 12)\n",
    "plt.ylabel('Percentage who Agree', fontsize = 12)\n",
    "\n",
    "plt.grid()\n",
    "plt.show()"
   ]
  },
  {
   "cell_type": "markdown",
   "id": "c87d6e1e",
   "metadata": {},
   "source": [
    "It can be seen that Mixed and Black people have a consistently lower proportion than other races."
   ]
  },
  {
   "cell_type": "markdown",
   "id": "3636ca78",
   "metadata": {},
   "source": [
    "I will now calculate a chi squared test to see if there is a significant statistical difference between different ethnicities' perception of the police, only including the most recent data point. To align with the Met Police categories, I will aggregate White British and White other for this calculation."
   ]
  },
  {
   "cell_type": "code",
   "execution_count": 170,
   "id": "1b07eb73",
   "metadata": {},
   "outputs": [
    {
     "data": {
      "text/html": [
       "<div>\n",
       "<style scoped>\n",
       "    .dataframe tbody tr th:only-of-type {\n",
       "        vertical-align: middle;\n",
       "    }\n",
       "\n",
       "    .dataframe tbody tr th {\n",
       "        vertical-align: top;\n",
       "    }\n",
       "\n",
       "    .dataframe thead th {\n",
       "        text-align: right;\n",
       "    }\n",
       "</style>\n",
       "<table border=\"1\" class=\"dataframe\">\n",
       "  <thead>\n",
       "    <tr style=\"text-align: right;\">\n",
       "      <th></th>\n",
       "      <th>Agree</th>\n",
       "      <th>Disagree</th>\n",
       "    </tr>\n",
       "    <tr>\n",
       "      <th>Characteristic</th>\n",
       "      <th></th>\n",
       "      <th></th>\n",
       "    </tr>\n",
       "  </thead>\n",
       "  <tbody>\n",
       "    <tr>\n",
       "      <th>Asian</th>\n",
       "      <td>1659.75</td>\n",
       "      <td>553.25</td>\n",
       "    </tr>\n",
       "    <tr>\n",
       "      <th>Black</th>\n",
       "      <td>740.64</td>\n",
       "      <td>802.36</td>\n",
       "    </tr>\n",
       "    <tr>\n",
       "      <th>Mixed ethnicity</th>\n",
       "      <td>165.60</td>\n",
       "      <td>179.40</td>\n",
       "    </tr>\n",
       "    <tr>\n",
       "      <th>Other</th>\n",
       "      <td>326.88</td>\n",
       "      <td>127.12</td>\n",
       "    </tr>\n",
       "    <tr>\n",
       "      <th>White</th>\n",
       "      <td>5027.05</td>\n",
       "      <td>2355.95</td>\n",
       "    </tr>\n",
       "  </tbody>\n",
       "</table>\n",
       "</div>"
      ],
      "text/plain": [
       "                   Agree  Disagree\n",
       "Characteristic                    \n",
       "Asian            1659.75    553.25\n",
       "Black             740.64    802.36\n",
       "Mixed ethnicity   165.60    179.40\n",
       "Other             326.88    127.12\n",
       "White            5027.05   2355.95"
      ]
     },
     "execution_count": 170,
     "metadata": {},
     "output_type": "execute_result"
    }
   ],
   "source": [
    "recent = perception[perception['Date']==pd.to_datetime('2021-09-30').date()]\n",
    "recent = recent.assign(Agree = recent['Base']*recent['Proportion']/100)\n",
    "\n",
    "recent['Disagree'] = recent['Base'] - recent['Agree']\n",
    "contingency = recent.groupby('Characteristic')[['Agree','Disagree']].sum()\n",
    "\n",
    "contingency.loc['White'] = contingency.loc['White British'] + contingency.loc['White Other']\n",
    "contingency.drop(['White British', 'White Other'], inplace = True)\n",
    "contingency"
   ]
  },
  {
   "cell_type": "code",
   "execution_count": 173,
   "id": "51d93079",
   "metadata": {},
   "outputs": [
    {
     "data": {
      "text/plain": [
       "5.862518897162698e-80"
      ]
     },
     "execution_count": 173,
     "metadata": {},
     "output_type": "execute_result"
    }
   ],
   "source": [
    "stat, p, dof, expected = stats.chi2_contingency(contingency)\n",
    "p"
   ]
  },
  {
   "cell_type": "markdown",
   "id": "59a76b4d",
   "metadata": {},
   "source": [
    "The p value is much smaller than 0.01, so there is significant difference at the 99% confidence level. This means that there is a relationship between ethnicity, and agreeing or disagreeing that the police treat people fairly."
   ]
  },
  {
   "cell_type": "markdown",
   "id": "6e9db2ba",
   "metadata": {},
   "source": [
    "# 3. Do the Metropolitan Police use force fairly across different ethnic groups? "
   ]
  },
  {
   "cell_type": "markdown",
   "id": "8121668f",
   "metadata": {},
   "source": [
    "This section will use the Use of Force data and the population data to answer the above question."
   ]
  },
  {
   "cell_type": "markdown",
   "id": "28a2ca58",
   "metadata": {},
   "source": [
    "## 3.1 Proportion of Force Incidents by Ethnicity"
   ]
  },
  {
   "cell_type": "code",
   "execution_count": 33,
   "id": "f0f47208",
   "metadata": {},
   "outputs": [
    {
     "data": {
      "text/plain": [
       "White         186382\n",
       "Black         153323\n",
       "Asian          56147\n",
       "Other          20763\n",
       "Mixed          15717\n",
       "Don't know      5688\n",
       "Chinese         2604\n",
       "Name: SubjectEthnicity, dtype: int64"
      ]
     },
     "execution_count": 33,
     "metadata": {},
     "output_type": "execute_result"
    }
   ],
   "source": [
    "# Getting incidents per ethnicity and renaming long ethnicity names\n",
    "incidents_per_ethnicity = incidents['SubjectEthnicity'].value_counts()\n",
    "incidents_per_ethnicity.rename({'Black (or Black British)':'Black', 'Asian (or Asian British)':'Asian'}, \n",
    "                               inplace = True)\n",
    "incidents_per_ethnicity"
   ]
  },
  {
   "cell_type": "markdown",
   "id": "c8b961c0",
   "metadata": {},
   "source": [
    "Above are the number of incidents per ethnicity. The proportion of incidents per ethnicity will be compared to the proportion of each ethnicity in the population, to see if there is a difference. It is unclear why Chinese is a seperate category to Asian, but for my analysis these will be combined. It is important to note that these are not self-described ethnicities, but the ethnicity that the police officer reporting the incident thinks the subject is."
   ]
  },
  {
   "cell_type": "code",
   "execution_count": 34,
   "id": "bfa6dd7b",
   "metadata": {},
   "outputs": [
    {
     "data": {
      "text/plain": [
       "White         186382\n",
       "Black         153323\n",
       "Asian          58751\n",
       "Other          20763\n",
       "Mixed          15717\n",
       "Don't know      5688\n",
       "Name: SubjectEthnicity, dtype: int64"
      ]
     },
     "execution_count": 34,
     "metadata": {},
     "output_type": "execute_result"
    }
   ],
   "source": [
    "# Merging Chinese column with Asian and dropping it\n",
    "incidents_per_ethnicity['Asian'] = incidents_per_ethnicity['Asian'] + incidents_per_ethnicity['Chinese']\n",
    "incidents_per_ethnicity.drop('Chinese', inplace=True)\n",
    "incidents_per_ethnicity"
   ]
  },
  {
   "cell_type": "code",
   "execution_count": 35,
   "id": "e91670d5",
   "metadata": {},
   "outputs": [],
   "source": [
    "# calculating percentage of incidents by ethnicity\n",
    "prop_per_ethnicity = incidents_per_ethnicity*100/len(incidents)"
   ]
  },
  {
   "cell_type": "code",
   "execution_count": 78,
   "id": "32a93e2c",
   "metadata": {},
   "outputs": [
    {
     "data": {
      "text/html": [
       "<div>\n",
       "<style scoped>\n",
       "    .dataframe tbody tr th:only-of-type {\n",
       "        vertical-align: middle;\n",
       "    }\n",
       "\n",
       "    .dataframe tbody tr th {\n",
       "        vertical-align: top;\n",
       "    }\n",
       "\n",
       "    .dataframe thead th {\n",
       "        text-align: right;\n",
       "    }\n",
       "</style>\n",
       "<table border=\"1\" class=\"dataframe\">\n",
       "  <thead>\n",
       "    <tr style=\"text-align: right;\">\n",
       "      <th></th>\n",
       "      <th>Ethnicity</th>\n",
       "      <th>Incidents</th>\n",
       "      <th>Population</th>\n",
       "    </tr>\n",
       "  </thead>\n",
       "  <tbody>\n",
       "    <tr>\n",
       "      <th>0</th>\n",
       "      <td>White</td>\n",
       "      <td>42.299557</td>\n",
       "      <td>59.368229</td>\n",
       "    </tr>\n",
       "    <tr>\n",
       "      <th>1</th>\n",
       "      <td>Black</td>\n",
       "      <td>34.796788</td>\n",
       "      <td>12.487171</td>\n",
       "    </tr>\n",
       "    <tr>\n",
       "      <th>2</th>\n",
       "      <td>Asian</td>\n",
       "      <td>13.333591</td>\n",
       "      <td>18.371536</td>\n",
       "    </tr>\n",
       "    <tr>\n",
       "      <th>3</th>\n",
       "      <td>Other</td>\n",
       "      <td>4.712181</td>\n",
       "      <td>6.055423</td>\n",
       "    </tr>\n",
       "    <tr>\n",
       "      <th>4</th>\n",
       "      <td>Mixed</td>\n",
       "      <td>3.566987</td>\n",
       "      <td>3.717642</td>\n",
       "    </tr>\n",
       "    <tr>\n",
       "      <th>5</th>\n",
       "      <td>Don't know</td>\n",
       "      <td>1.290897</td>\n",
       "      <td>NaN</td>\n",
       "    </tr>\n",
       "  </tbody>\n",
       "</table>\n",
       "</div>"
      ],
      "text/plain": [
       "    Ethnicity  Incidents  Population\n",
       "0       White  42.299557   59.368229\n",
       "1       Black  34.796788   12.487171\n",
       "2       Asian  13.333591   18.371536\n",
       "3       Other   4.712181    6.055423\n",
       "4       Mixed   3.566987    3.717642\n",
       "5  Don't know   1.290897         NaN"
      ]
     },
     "execution_count": 78,
     "metadata": {},
     "output_type": "execute_result"
    }
   ],
   "source": [
    "# extracting London population values and renaming ethnic groups to match met police categories\n",
    "populations = population_london.drop(['Area Name', 'Area Code'], axis=1)\n",
    "\n",
    "ethnicities = prop_per_ethnicity.index.values.tolist()\n",
    "ethnicities.remove(\"Don't know\")\n",
    "cols_to_rename = ['White','Black / African / Caribbean / Black British', 'Asian / Asian British',\n",
    "                  'Other ethnic group', 'Mixed / Multiple ethnic groups']\n",
    "col_dict = dict(zip(cols_to_rename, ethnicities))\n",
    "populations = populations.rename(columns=col_dict)\n",
    "\n",
    "# calculating ethnicity proportions for London population\n",
    "populations_prop = populations*100/populations['Total'].iloc[0]\n",
    "\n",
    "# transposing and joining to incident proportions\n",
    "populations_prop = populations_prop.transpose().rename(columns={221: 'Population'})\n",
    "\n",
    "# merging two dataframes for comparison of incident proportions to population proportions\n",
    "proportions = prop_per_ethnicity.to_frame().join(populations_prop).reset_index()\n",
    "proportions = proportions.rename(columns={'SubjectEthnicity': 'Incidents', 'index': 'Ethnicity'})\n",
    "\n",
    "proportions"
   ]
  },
  {
   "cell_type": "code",
   "execution_count": 352,
   "id": "7c10500f",
   "metadata": {},
   "outputs": [
    {
     "data": {
      "image/png": "[encoded data removed]",
      "text/plain": [
       "<Figure size 579.6x360 with 1 Axes>"
      ]
     },
     "metadata": {
      "needs_background": "light"
     },
     "output_type": "display_data"
    }
   ],
   "source": [
    "# Plotting bar chart comparing proportions of incidents vs population, excluding 'Don't know' category\n",
    "    # and customising\n",
    "    \n",
    "pop = proportions['Population'].iloc[:5]\n",
    "inc = proportions['Incidents'].iloc[:5]\n",
    "\n",
    "ind = np.arange(5)\n",
    "\n",
    "plt.figure(figsize=(5*1.61,5))\n",
    "\n",
    "width = 0.3      \n",
    "\n",
    "plt.bar(ind, pop , width-0.01, color = 'navy', label='Percentage of London Population')\n",
    "plt.bar(ind + width, inc, width-0.01, color = 'royalblue', label='Percentage of Use of Force Incidents')\n",
    "\n",
    "xlabs = ['White', 'Black', 'Asian', 'Other', 'Mixed']\n",
    "plt.xticks(ind + width / 2, xlabs, fontsize = 12)\n",
    "\n",
    "ylabs = [str(i) +'%' for i in range(0,61,10)]\n",
    "ylocs = [i for i in range(0,61,10)]\n",
    "plt.yticks(ylocs,ylabs, fontsize = 12)\n",
    "\n",
    "plt.legend(fontsize = 12)\n",
    "plt.show()\n"
   ]
  },
  {
   "cell_type": "markdown",
   "id": "275faf97",
   "metadata": {},
   "source": [
    "This shows that there is a disparity in police force incidents by race - even though black people only make up 12.5% of the population, they are the subjects of 34.8% of police force incidents."
   ]
  },
  {
   "cell_type": "markdown",
   "id": "09f6c5e5",
   "metadata": {},
   "source": [
    "Now I will conduct a t-test to confirm whether these resultsa are statistically significant. I will calculate the number of incidents per month per 1000 members of both black and non-black groups and run an independent t-test to see the significance."
   ]
  },
  {
   "cell_type": "code",
   "execution_count": 304,
   "id": "bf498481",
   "metadata": {},
   "outputs": [
    {
     "data": {
      "text/plain": [
       "Ttest_indResult(statistic=13.73808700421564, pvalue=1.663014505728693e-24)"
      ]
     },
     "execution_count": 304,
     "metadata": {},
     "output_type": "execute_result"
    }
   ],
   "source": [
    "# Renaming all non-black columns to NonBlack so that they combine when I groupby ethnicity\n",
    "incidents_per_month = incidents.replace(to_replace=['Black (or Black British)',\n",
    "                                                    'Asian (or Asian British)',\n",
    "                                                    'White', 'Mixed', \"Don't know\", 'Chinese','Other'], \n",
    "                                                  value=['Black', 'NonBlack', 'NonBlack','NonBlack','NonBlack',\n",
    "                                                        'NonBlack', 'NonBlack'])\n",
    "\n",
    "# Grouping by month and ethnicity to get counts per month for black vs non black ethnicities\n",
    "incidents_per_month = incidents_per_month.groupby([pd.Grouper(key='DateTime', freq='M'),'SubjectEthnicity'])\\\n",
    "                                                            ['Borough'].count().reset_index()\n",
    "\n",
    "# renaming the column to make sense \n",
    "incidents_per_month = incidents_per_month.rename(columns={'Borough': 'Incidents'})\n",
    "\n",
    "# calculating the number of incidents per 1000 people of that ethnic group per month\n",
    "nonblack_pop = populations.loc['Total'][0] - populations.loc['Black'][0]\n",
    "black_pop = populations.loc['Black'][0]\n",
    "incidents_black_per1000 = (incidents_per_month[incidents_per_month['SubjectEthnicity'] == 'Black']['Incidents']\\\n",
    "                   /black_pop)*1000\n",
    "\n",
    "incidents_nonblack_per1000 = (incidents_per_month[incidents_per_month['SubjectEthnicity'] == 'NonBlack']['Incidents']\\\n",
    "                   /nonblack_pop)*1000\n",
    "\n",
    "# running the t-test\n",
    "stats.ttest_ind(incidents_black_per1000, incidents_nonblack_per1000, alternative='greater')"
   ]
  },
  {
   "cell_type": "markdown",
   "id": "45ffc300",
   "metadata": {},
   "source": [
    "The p-value is much less than 0.01, suggesting that this result is statistically significant at the 99% level."
   ]
  },
  {
   "cell_type": "markdown",
   "id": "65dc6268",
   "metadata": {},
   "source": [
    "## 3.2 Police Force Severity by Ethnicity"
   ]
  },
  {
   "cell_type": "markdown",
   "id": "cb574813",
   "metadata": {},
   "source": [
    "Now, I want to see if there is a difference in the severity of the police force incidents by race, to to this I will group by ethnicity, and then look at columns containing information about subject injuries, use of tasers, and use of firearms."
   ]
  },
  {
   "cell_type": "code",
   "execution_count": 39,
   "id": "f33dfea5",
   "metadata": {},
   "outputs": [],
   "source": [
    "# Grouping by ethnicity and summing over all other columns to get counts\n",
    "by_ethnicity = incidents.groupby('SubjectEthnicity').sum()\n",
    "\n",
    "# Renaming long ethnicities\n",
    "by_ethnicity.rename(index = {'Black (or Black British)':'Black', 'Asian (or Asian British)':'Asian'}, inplace=True)\n",
    "\n",
    "# Aggregating Chinese and Asian categories, dropping Chinese\n",
    "by_ethnicity.loc['Asian'] = by_ethnicity.loc['Asian'] + by_ethnicity.loc['Chinese']\n",
    "by_ethnicity.drop('Chinese', inplace=True)"
   ]
  },
  {
   "cell_type": "code",
   "execution_count": 40,
   "id": "33068c51",
   "metadata": {},
   "outputs": [
    {
     "data": {
      "text/html": [
       "<div>\n",
       "<style scoped>\n",
       "    .dataframe tbody tr th:only-of-type {\n",
       "        vertical-align: middle;\n",
       "    }\n",
       "\n",
       "    .dataframe tbody tr th {\n",
       "        vertical-align: top;\n",
       "    }\n",
       "\n",
       "    .dataframe thead th {\n",
       "        text-align: right;\n",
       "    }\n",
       "</style>\n",
       "<table border=\"1\" class=\"dataframe\">\n",
       "  <thead>\n",
       "    <tr style=\"text-align: right;\">\n",
       "      <th></th>\n",
       "      <th>Injury: None</th>\n",
       "      <th>Injury: Death</th>\n",
       "      <th>Injury: Minor</th>\n",
       "      <th>Injury: Severe</th>\n",
       "      <th>SubjectMedOffered</th>\n",
       "      <th>SubjectMedProvided</th>\n",
       "      <th>CED Drawn</th>\n",
       "      <th>CED Aimed</th>\n",
       "      <th>CED Red-Dotted</th>\n",
       "      <th>CED Arced</th>\n",
       "      <th>...</th>\n",
       "      <th>CED Fired</th>\n",
       "      <th>CED Angle Drive Stun</th>\n",
       "      <th>Firearms Aimed</th>\n",
       "      <th>Firearms Fired</th>\n",
       "      <th>Outcome: Made off/escaped</th>\n",
       "      <th>Outcome: Arrested</th>\n",
       "      <th>Outcome: Hospitalised</th>\n",
       "      <th>Outcome: Detained - Mental Health Act</th>\n",
       "      <th>Outcome: Fatality</th>\n",
       "      <th>Outcome: Other</th>\n",
       "    </tr>\n",
       "    <tr>\n",
       "      <th>SubjectEthnicity</th>\n",
       "      <th></th>\n",
       "      <th></th>\n",
       "      <th></th>\n",
       "      <th></th>\n",
       "      <th></th>\n",
       "      <th></th>\n",
       "      <th></th>\n",
       "      <th></th>\n",
       "      <th></th>\n",
       "      <th></th>\n",
       "      <th></th>\n",
       "      <th></th>\n",
       "      <th></th>\n",
       "      <th></th>\n",
       "      <th></th>\n",
       "      <th></th>\n",
       "      <th></th>\n",
       "      <th></th>\n",
       "      <th></th>\n",
       "      <th></th>\n",
       "      <th></th>\n",
       "    </tr>\n",
       "  </thead>\n",
       "  <tbody>\n",
       "    <tr>\n",
       "      <th>Asian</th>\n",
       "      <td>57660.0</td>\n",
       "      <td>0.0</td>\n",
       "      <td>1492.0</td>\n",
       "      <td>25.0</td>\n",
       "      <td>1228.0</td>\n",
       "      <td>831.0</td>\n",
       "      <td>1032.0</td>\n",
       "      <td>358.0</td>\n",
       "      <td>1525.0</td>\n",
       "      <td>10.0</td>\n",
       "      <td>...</td>\n",
       "      <td>179.0</td>\n",
       "      <td>3.0</td>\n",
       "      <td>662</td>\n",
       "      <td>2</td>\n",
       "      <td>305</td>\n",
       "      <td>48690</td>\n",
       "      <td>1703</td>\n",
       "      <td>1641</td>\n",
       "      <td>0</td>\n",
       "      <td>9481</td>\n",
       "    </tr>\n",
       "    <tr>\n",
       "      <th>Black</th>\n",
       "      <td>150101.0</td>\n",
       "      <td>1.0</td>\n",
       "      <td>5364.0</td>\n",
       "      <td>96.0</td>\n",
       "      <td>4561.0</td>\n",
       "      <td>3123.0</td>\n",
       "      <td>4157.0</td>\n",
       "      <td>1376.0</td>\n",
       "      <td>6181.0</td>\n",
       "      <td>28.0</td>\n",
       "      <td>...</td>\n",
       "      <td>801.0</td>\n",
       "      <td>10.0</td>\n",
       "      <td>1965</td>\n",
       "      <td>8</td>\n",
       "      <td>1408</td>\n",
       "      <td>125581</td>\n",
       "      <td>4447</td>\n",
       "      <td>4849</td>\n",
       "      <td>3</td>\n",
       "      <td>28211</td>\n",
       "    </tr>\n",
       "    <tr>\n",
       "      <th>Don't know</th>\n",
       "      <td>5545.0</td>\n",
       "      <td>0.0</td>\n",
       "      <td>144.0</td>\n",
       "      <td>9.0</td>\n",
       "      <td>122.0</td>\n",
       "      <td>91.0</td>\n",
       "      <td>193.0</td>\n",
       "      <td>40.0</td>\n",
       "      <td>176.0</td>\n",
       "      <td>3.0</td>\n",
       "      <td>...</td>\n",
       "      <td>44.0</td>\n",
       "      <td>0.0</td>\n",
       "      <td>119</td>\n",
       "      <td>2</td>\n",
       "      <td>208</td>\n",
       "      <td>3782</td>\n",
       "      <td>252</td>\n",
       "      <td>184</td>\n",
       "      <td>0</td>\n",
       "      <td>1580</td>\n",
       "    </tr>\n",
       "    <tr>\n",
       "      <th>Mixed</th>\n",
       "      <td>15264.0</td>\n",
       "      <td>0.0</td>\n",
       "      <td>515.0</td>\n",
       "      <td>14.0</td>\n",
       "      <td>441.0</td>\n",
       "      <td>304.0</td>\n",
       "      <td>322.0</td>\n",
       "      <td>97.0</td>\n",
       "      <td>452.0</td>\n",
       "      <td>5.0</td>\n",
       "      <td>...</td>\n",
       "      <td>55.0</td>\n",
       "      <td>0.0</td>\n",
       "      <td>173</td>\n",
       "      <td>1</td>\n",
       "      <td>123</td>\n",
       "      <td>12558</td>\n",
       "      <td>572</td>\n",
       "      <td>482</td>\n",
       "      <td>0</td>\n",
       "      <td>2797</td>\n",
       "    </tr>\n",
       "    <tr>\n",
       "      <th>Other</th>\n",
       "      <td>20260.0</td>\n",
       "      <td>0.0</td>\n",
       "      <td>594.0</td>\n",
       "      <td>11.0</td>\n",
       "      <td>480.0</td>\n",
       "      <td>327.0</td>\n",
       "      <td>345.0</td>\n",
       "      <td>100.0</td>\n",
       "      <td>455.0</td>\n",
       "      <td>0.0</td>\n",
       "      <td>...</td>\n",
       "      <td>52.0</td>\n",
       "      <td>0.0</td>\n",
       "      <td>235</td>\n",
       "      <td>1</td>\n",
       "      <td>106</td>\n",
       "      <td>16848</td>\n",
       "      <td>720</td>\n",
       "      <td>568</td>\n",
       "      <td>0</td>\n",
       "      <td>3630</td>\n",
       "    </tr>\n",
       "    <tr>\n",
       "      <th>White</th>\n",
       "      <td>181597.0</td>\n",
       "      <td>0.0</td>\n",
       "      <td>6989.0</td>\n",
       "      <td>155.0</td>\n",
       "      <td>6010.0</td>\n",
       "      <td>4402.0</td>\n",
       "      <td>4114.0</td>\n",
       "      <td>1208.0</td>\n",
       "      <td>5529.0</td>\n",
       "      <td>36.0</td>\n",
       "      <td>...</td>\n",
       "      <td>727.0</td>\n",
       "      <td>13.0</td>\n",
       "      <td>1319</td>\n",
       "      <td>6</td>\n",
       "      <td>1231</td>\n",
       "      <td>149927</td>\n",
       "      <td>10129</td>\n",
       "      <td>8279</td>\n",
       "      <td>0</td>\n",
       "      <td>30959</td>\n",
       "    </tr>\n",
       "  </tbody>\n",
       "</table>\n",
       "<p>6 rows × 21 columns</p>\n",
       "</div>"
      ],
      "text/plain": [
       "                  Injury: None  Injury: Death  Injury: Minor  Injury: Severe  \\\n",
       "SubjectEthnicity                                                               \n",
       "Asian                  57660.0            0.0         1492.0            25.0   \n",
       "Black                 150101.0            1.0         5364.0            96.0   \n",
       "Don't know              5545.0            0.0          144.0             9.0   \n",
       "Mixed                  15264.0            0.0          515.0            14.0   \n",
       "Other                  20260.0            0.0          594.0            11.0   \n",
       "White                 181597.0            0.0         6989.0           155.0   \n",
       "\n",
       "                  SubjectMedOffered  SubjectMedProvided  CED Drawn  CED Aimed  \\\n",
       "SubjectEthnicity                                                                \n",
       "Asian                        1228.0               831.0     1032.0      358.0   \n",
       "Black                        4561.0              3123.0     4157.0     1376.0   \n",
       "Don't know                    122.0                91.0      193.0       40.0   \n",
       "Mixed                         441.0               304.0      322.0       97.0   \n",
       "Other                         480.0               327.0      345.0      100.0   \n",
       "White                        6010.0              4402.0     4114.0     1208.0   \n",
       "\n",
       "                  CED Red-Dotted  CED Arced  ...  CED Fired  \\\n",
       "SubjectEthnicity                             ...              \n",
       "Asian                     1525.0       10.0  ...      179.0   \n",
       "Black                     6181.0       28.0  ...      801.0   \n",
       "Don't know                 176.0        3.0  ...       44.0   \n",
       "Mixed                      452.0        5.0  ...       55.0   \n",
       "Other                      455.0        0.0  ...       52.0   \n",
       "White                     5529.0       36.0  ...      727.0   \n",
       "\n",
       "                  CED Angle Drive Stun  Firearms Aimed  Firearms Fired  \\\n",
       "SubjectEthnicity                                                         \n",
       "Asian                              3.0             662               2   \n",
       "Black                             10.0            1965               8   \n",
       "Don't know                         0.0             119               2   \n",
       "Mixed                              0.0             173               1   \n",
       "Other                              0.0             235               1   \n",
       "White                             13.0            1319               6   \n",
       "\n",
       "                  Outcome: Made off/escaped  Outcome: Arrested  \\\n",
       "SubjectEthnicity                                                 \n",
       "Asian                                   305              48690   \n",
       "Black                                  1408             125581   \n",
       "Don't know                              208               3782   \n",
       "Mixed                                   123              12558   \n",
       "Other                                   106              16848   \n",
       "White                                  1231             149927   \n",
       "\n",
       "                  Outcome: Hospitalised  \\\n",
       "SubjectEthnicity                          \n",
       "Asian                              1703   \n",
       "Black                              4447   \n",
       "Don't know                          252   \n",
       "Mixed                               572   \n",
       "Other                               720   \n",
       "White                             10129   \n",
       "\n",
       "                  Outcome: Detained - Mental Health Act  Outcome: Fatality  \\\n",
       "SubjectEthnicity                                                             \n",
       "Asian                                              1641                  0   \n",
       "Black                                              4849                  3   \n",
       "Don't know                                          184                  0   \n",
       "Mixed                                               482                  0   \n",
       "Other                                               568                  0   \n",
       "White                                              8279                  0   \n",
       "\n",
       "                  Outcome: Other  \n",
       "SubjectEthnicity                  \n",
       "Asian                       9481  \n",
       "Black                      28211  \n",
       "Don't know                  1580  \n",
       "Mixed                       2797  \n",
       "Other                       3630  \n",
       "White                      30959  \n",
       "\n",
       "[6 rows x 21 columns]"
      ]
     },
     "execution_count": 40,
     "metadata": {},
     "output_type": "execute_result"
    }
   ],
   "source": [
    "by_ethnicity"
   ]
  },
  {
   "cell_type": "code",
   "execution_count": 41,
   "id": "57d2fc9f",
   "metadata": {},
   "outputs": [
    {
     "data": {
      "text/html": [
       "<div>\n",
       "<style scoped>\n",
       "    .dataframe tbody tr th:only-of-type {\n",
       "        vertical-align: middle;\n",
       "    }\n",
       "\n",
       "    .dataframe tbody tr th {\n",
       "        vertical-align: top;\n",
       "    }\n",
       "\n",
       "    .dataframe thead th {\n",
       "        text-align: right;\n",
       "    }\n",
       "</style>\n",
       "<table border=\"1\" class=\"dataframe\">\n",
       "  <thead>\n",
       "    <tr style=\"text-align: right;\">\n",
       "      <th></th>\n",
       "      <th>SubjectEthnicity</th>\n",
       "      <th>Injury: None</th>\n",
       "      <th>Injury: Death</th>\n",
       "      <th>Injury: Minor</th>\n",
       "      <th>Injury: Severe</th>\n",
       "    </tr>\n",
       "  </thead>\n",
       "  <tbody>\n",
       "    <tr>\n",
       "      <th>0</th>\n",
       "      <td>Asian</td>\n",
       "      <td>98.143010</td>\n",
       "      <td>0.000000</td>\n",
       "      <td>2.539531</td>\n",
       "      <td>0.042552</td>\n",
       "    </tr>\n",
       "    <tr>\n",
       "      <th>1</th>\n",
       "      <td>Black</td>\n",
       "      <td>97.898554</td>\n",
       "      <td>0.000652</td>\n",
       "      <td>3.498497</td>\n",
       "      <td>0.062613</td>\n",
       "    </tr>\n",
       "    <tr>\n",
       "      <th>2</th>\n",
       "      <td>Don't know</td>\n",
       "      <td>97.485935</td>\n",
       "      <td>0.000000</td>\n",
       "      <td>2.531646</td>\n",
       "      <td>0.158228</td>\n",
       "    </tr>\n",
       "    <tr>\n",
       "      <th>3</th>\n",
       "      <td>Mixed</td>\n",
       "      <td>97.117771</td>\n",
       "      <td>0.000000</td>\n",
       "      <td>3.276707</td>\n",
       "      <td>0.089076</td>\n",
       "    </tr>\n",
       "    <tr>\n",
       "      <th>4</th>\n",
       "      <td>Other</td>\n",
       "      <td>97.577421</td>\n",
       "      <td>0.000000</td>\n",
       "      <td>2.860858</td>\n",
       "      <td>0.052979</td>\n",
       "    </tr>\n",
       "    <tr>\n",
       "      <th>5</th>\n",
       "      <td>White</td>\n",
       "      <td>97.432692</td>\n",
       "      <td>0.000000</td>\n",
       "      <td>3.749826</td>\n",
       "      <td>0.083163</td>\n",
       "    </tr>\n",
       "  </tbody>\n",
       "</table>\n",
       "</div>"
      ],
      "text/plain": [
       "  SubjectEthnicity  Injury: None  Injury: Death  Injury: Minor  Injury: Severe\n",
       "0            Asian     98.143010       0.000000       2.539531        0.042552\n",
       "1            Black     97.898554       0.000652       3.498497        0.062613\n",
       "2       Don't know     97.485935       0.000000       2.531646        0.158228\n",
       "3            Mixed     97.117771       0.000000       3.276707        0.089076\n",
       "4            Other     97.577421       0.000000       2.860858        0.052979\n",
       "5            White     97.432692       0.000000       3.749826        0.083163"
      ]
     },
     "execution_count": 41,
     "metadata": {},
     "output_type": "execute_result"
    }
   ],
   "source": [
    "# selecting columns relating to injuries\n",
    "injury_cols = ['Injury: None','Injury: Death','Injury: Minor','Injury: Severe']\n",
    "injury = by_ethnicity[injury_cols]\n",
    "\n",
    "#calculating percentage of incidents that fall into each category\n",
    "injury = injury.div(incidents_per_ethnicity, axis=0)*100\n",
    "injury = injury.reset_index().rename(columns={'index':'SubjectEthnicity'})\n",
    "injury"
   ]
  },
  {
   "cell_type": "code",
   "execution_count": 42,
   "id": "fc532a75",
   "metadata": {},
   "outputs": [
    {
     "data": {
      "text/plain": [
       "<BarContainer object of 6 artists>"
      ]
     },
     "execution_count": 42,
     "metadata": {},
     "output_type": "execute_result"
    },
    {
     "data": {
      "image/png": "[encoded data removed]",
      "text/plain": [
       "<Figure size 432x288 with 1 Axes>"
      ]
     },
     "metadata": {
      "needs_background": "light"
     },
     "output_type": "display_data"
    },
    {
     "data": {
      "image/png": "[encoded data removed]",
      "text/plain": [
       "<Figure size 432x288 with 1 Axes>"
      ]
     },
     "metadata": {
      "needs_background": "light"
     },
     "output_type": "display_data"
    }
   ],
   "source": [
    "# Plotting bar charts showing % of severe and minor injuries by race\n",
    "plt.figure()\n",
    "injury = injury.sort_values('Injury: Minor', ascending = False)\n",
    "plt.bar(injury['SubjectEthnicity'], injury['Injury: Minor'], color='royalblue')\n",
    "\n",
    "\n",
    "plt.figure()\n",
    "injury = injury.sort_values('Injury: Severe', ascending = False)\n",
    "plt.bar(injury['SubjectEthnicity'], injury['Injury: Severe'], color = 'royalblue')"
   ]
  },
  {
   "cell_type": "markdown",
   "id": "c1df03db",
   "metadata": {},
   "source": [
    "There is not considerable difference in the percentage of subjects being minorly injured in police force incidents by race. For severe injuries, the 'Don't know' category is quite a lot higher than the others, but not much insight can be gained from this as the name of the category suggests. There is only one death which is not enough to be statistically significant."
   ]
  },
  {
   "cell_type": "markdown",
   "id": "62e2b337",
   "metadata": {},
   "source": [
    "I now want to see if there is a difference between the medical attention provided and offered for different ethnicities."
   ]
  },
  {
   "cell_type": "code",
   "execution_count": 43,
   "id": "60270a93",
   "metadata": {},
   "outputs": [
    {
     "data": {
      "text/plain": [
       "<BarContainer object of 6 artists>"
      ]
     },
     "execution_count": 43,
     "metadata": {},
     "output_type": "execute_result"
    },
    {
     "data": {
      "image/png": "[encoded data removed]",
      "text/plain": [
       "<Figure size 432x288 with 1 Axes>"
      ]
     },
     "metadata": {
      "needs_background": "light"
     },
     "output_type": "display_data"
    }
   ],
   "source": [
    "# selecting columns of interest\n",
    "med_cols = ['Injury: Minor', 'Injury: Severe', 'SubjectMedOffered', 'SubjectMedProvided']\n",
    "med = by_ethnicity[med_cols]\n",
    "\n",
    "# calculating total injury rate\n",
    "med = med.assign(InjuryTotal = med['Injury: Minor'] + med['Injury: Severe'])\n",
    "\n",
    "# calculating percentage of injured subjects offered medical attention\n",
    "med['MedOfferedperInjury'] = med['SubjectMedOffered']/med['InjuryTotal']*100\n",
    "\n",
    "\n",
    "med = med.reset_index().rename(columns={'index':'SubjectEthnicity'})\n",
    "\n",
    "plt.bar(med['SubjectEthnicity'], med['MedOfferedperInjury'], color='royalblue')"
   ]
  },
  {
   "cell_type": "code",
   "execution_count": 44,
   "id": "df83dc10",
   "metadata": {},
   "outputs": [
    {
     "data": {
      "text/html": [
       "<div>\n",
       "<style scoped>\n",
       "    .dataframe tbody tr th:only-of-type {\n",
       "        vertical-align: middle;\n",
       "    }\n",
       "\n",
       "    .dataframe tbody tr th {\n",
       "        vertical-align: top;\n",
       "    }\n",
       "\n",
       "    .dataframe thead th {\n",
       "        text-align: right;\n",
       "    }\n",
       "</style>\n",
       "<table border=\"1\" class=\"dataframe\">\n",
       "  <thead>\n",
       "    <tr style=\"text-align: right;\">\n",
       "      <th></th>\n",
       "      <th>SubjectEthnicity</th>\n",
       "      <th>Injury: Minor</th>\n",
       "      <th>Injury: Severe</th>\n",
       "      <th>SubjectMedOffered</th>\n",
       "      <th>SubjectMedProvided</th>\n",
       "      <th>InjuryTotal</th>\n",
       "      <th>MedOfferedperInjury</th>\n",
       "    </tr>\n",
       "  </thead>\n",
       "  <tbody>\n",
       "    <tr>\n",
       "      <th>0</th>\n",
       "      <td>Asian</td>\n",
       "      <td>1492.0</td>\n",
       "      <td>25.0</td>\n",
       "      <td>1228.0</td>\n",
       "      <td>831.0</td>\n",
       "      <td>1517.0</td>\n",
       "      <td>80.949242</td>\n",
       "    </tr>\n",
       "    <tr>\n",
       "      <th>1</th>\n",
       "      <td>Black</td>\n",
       "      <td>5364.0</td>\n",
       "      <td>96.0</td>\n",
       "      <td>4561.0</td>\n",
       "      <td>3123.0</td>\n",
       "      <td>5460.0</td>\n",
       "      <td>83.534799</td>\n",
       "    </tr>\n",
       "    <tr>\n",
       "      <th>2</th>\n",
       "      <td>Don't know</td>\n",
       "      <td>144.0</td>\n",
       "      <td>9.0</td>\n",
       "      <td>122.0</td>\n",
       "      <td>91.0</td>\n",
       "      <td>153.0</td>\n",
       "      <td>79.738562</td>\n",
       "    </tr>\n",
       "    <tr>\n",
       "      <th>3</th>\n",
       "      <td>Mixed</td>\n",
       "      <td>515.0</td>\n",
       "      <td>14.0</td>\n",
       "      <td>441.0</td>\n",
       "      <td>304.0</td>\n",
       "      <td>529.0</td>\n",
       "      <td>83.364839</td>\n",
       "    </tr>\n",
       "    <tr>\n",
       "      <th>4</th>\n",
       "      <td>Other</td>\n",
       "      <td>594.0</td>\n",
       "      <td>11.0</td>\n",
       "      <td>480.0</td>\n",
       "      <td>327.0</td>\n",
       "      <td>605.0</td>\n",
       "      <td>79.338843</td>\n",
       "    </tr>\n",
       "    <tr>\n",
       "      <th>5</th>\n",
       "      <td>White</td>\n",
       "      <td>6989.0</td>\n",
       "      <td>155.0</td>\n",
       "      <td>6010.0</td>\n",
       "      <td>4402.0</td>\n",
       "      <td>7144.0</td>\n",
       "      <td>84.126540</td>\n",
       "    </tr>\n",
       "  </tbody>\n",
       "</table>\n",
       "</div>"
      ],
      "text/plain": [
       "  SubjectEthnicity  Injury: Minor  Injury: Severe  SubjectMedOffered  \\\n",
       "0            Asian         1492.0            25.0             1228.0   \n",
       "1            Black         5364.0            96.0             4561.0   \n",
       "2       Don't know          144.0             9.0              122.0   \n",
       "3            Mixed          515.0            14.0              441.0   \n",
       "4            Other          594.0            11.0              480.0   \n",
       "5            White         6989.0           155.0             6010.0   \n",
       "\n",
       "   SubjectMedProvided  InjuryTotal  MedOfferedperInjury  \n",
       "0               831.0       1517.0            80.949242  \n",
       "1              3123.0       5460.0            83.534799  \n",
       "2                91.0        153.0            79.738562  \n",
       "3               304.0        529.0            83.364839  \n",
       "4               327.0        605.0            79.338843  \n",
       "5              4402.0       7144.0            84.126540  "
      ]
     },
     "execution_count": 44,
     "metadata": {},
     "output_type": "execute_result"
    }
   ],
   "source": [
    "med"
   ]
  },
  {
   "cell_type": "markdown",
   "id": "420c8c20",
   "metadata": {},
   "source": [
    "Medical assistance to injured subject appears to be offered at the same rate to injured subjects, regarless of race."
   ]
  },
  {
   "cell_type": "markdown",
   "id": "6d521293",
   "metadata": {},
   "source": [
    "Now I want to see if there is a difference in terms of the severity of violence by race in terms of taser and firearm usage."
   ]
  },
  {
   "cell_type": "code",
   "execution_count": 45,
   "id": "9ff5ecda",
   "metadata": {},
   "outputs": [
    {
     "data": {
      "text/html": [
       "<div>\n",
       "<style scoped>\n",
       "    .dataframe tbody tr th:only-of-type {\n",
       "        vertical-align: middle;\n",
       "    }\n",
       "\n",
       "    .dataframe tbody tr th {\n",
       "        vertical-align: top;\n",
       "    }\n",
       "\n",
       "    .dataframe thead th {\n",
       "        text-align: right;\n",
       "    }\n",
       "</style>\n",
       "<table border=\"1\" class=\"dataframe\">\n",
       "  <thead>\n",
       "    <tr style=\"text-align: right;\">\n",
       "      <th></th>\n",
       "      <th>SubjectEthnicity</th>\n",
       "      <th>CED Drawn</th>\n",
       "      <th>CED Aimed</th>\n",
       "      <th>CED Red-Dotted</th>\n",
       "      <th>CED Arced</th>\n",
       "      <th>CED Drive Stun</th>\n",
       "      <th>CED Fired</th>\n",
       "      <th>CED Angle Drive Stun</th>\n",
       "      <th>Firearms Aimed</th>\n",
       "      <th>Firearms Fired</th>\n",
       "    </tr>\n",
       "  </thead>\n",
       "  <tbody>\n",
       "    <tr>\n",
       "      <th>0</th>\n",
       "      <td>Asian</td>\n",
       "      <td>1.756566</td>\n",
       "      <td>0.609351</td>\n",
       "      <td>2.595700</td>\n",
       "      <td>0.017021</td>\n",
       "      <td>0.005106</td>\n",
       "      <td>0.304676</td>\n",
       "      <td>0.005106</td>\n",
       "      <td>1.126789</td>\n",
       "      <td>0.003404</td>\n",
       "    </tr>\n",
       "    <tr>\n",
       "      <th>1</th>\n",
       "      <td>Black</td>\n",
       "      <td>2.711270</td>\n",
       "      <td>0.897452</td>\n",
       "      <td>4.031359</td>\n",
       "      <td>0.018262</td>\n",
       "      <td>0.015653</td>\n",
       "      <td>0.522427</td>\n",
       "      <td>0.006522</td>\n",
       "      <td>1.281608</td>\n",
       "      <td>0.005218</td>\n",
       "    </tr>\n",
       "    <tr>\n",
       "      <th>2</th>\n",
       "      <td>Don't know</td>\n",
       "      <td>3.393108</td>\n",
       "      <td>0.703235</td>\n",
       "      <td>3.094233</td>\n",
       "      <td>0.052743</td>\n",
       "      <td>0.017581</td>\n",
       "      <td>0.773558</td>\n",
       "      <td>0.000000</td>\n",
       "      <td>2.092124</td>\n",
       "      <td>0.035162</td>\n",
       "    </tr>\n",
       "    <tr>\n",
       "      <th>3</th>\n",
       "      <td>Mixed</td>\n",
       "      <td>2.048737</td>\n",
       "      <td>0.617166</td>\n",
       "      <td>2.875867</td>\n",
       "      <td>0.031813</td>\n",
       "      <td>0.006363</td>\n",
       "      <td>0.349940</td>\n",
       "      <td>0.000000</td>\n",
       "      <td>1.100719</td>\n",
       "      <td>0.006363</td>\n",
       "    </tr>\n",
       "    <tr>\n",
       "      <th>4</th>\n",
       "      <td>Other</td>\n",
       "      <td>1.661610</td>\n",
       "      <td>0.481626</td>\n",
       "      <td>2.191398</td>\n",
       "      <td>0.000000</td>\n",
       "      <td>0.009633</td>\n",
       "      <td>0.250446</td>\n",
       "      <td>0.000000</td>\n",
       "      <td>1.131821</td>\n",
       "      <td>0.004816</td>\n",
       "    </tr>\n",
       "    <tr>\n",
       "      <th>5</th>\n",
       "      <td>White</td>\n",
       "      <td>2.207295</td>\n",
       "      <td>0.648131</td>\n",
       "      <td>2.966488</td>\n",
       "      <td>0.019315</td>\n",
       "      <td>0.007511</td>\n",
       "      <td>0.390059</td>\n",
       "      <td>0.006975</td>\n",
       "      <td>0.707686</td>\n",
       "      <td>0.003219</td>\n",
       "    </tr>\n",
       "  </tbody>\n",
       "</table>\n",
       "</div>"
      ],
      "text/plain": [
       "  SubjectEthnicity  CED Drawn  CED Aimed  CED Red-Dotted  CED Arced  \\\n",
       "0            Asian   1.756566   0.609351        2.595700   0.017021   \n",
       "1            Black   2.711270   0.897452        4.031359   0.018262   \n",
       "2       Don't know   3.393108   0.703235        3.094233   0.052743   \n",
       "3            Mixed   2.048737   0.617166        2.875867   0.031813   \n",
       "4            Other   1.661610   0.481626        2.191398   0.000000   \n",
       "5            White   2.207295   0.648131        2.966488   0.019315   \n",
       "\n",
       "   CED Drive Stun  CED Fired  CED Angle Drive Stun  Firearms Aimed  \\\n",
       "0        0.005106   0.304676              0.005106        1.126789   \n",
       "1        0.015653   0.522427              0.006522        1.281608   \n",
       "2        0.017581   0.773558              0.000000        2.092124   \n",
       "3        0.006363   0.349940              0.000000        1.100719   \n",
       "4        0.009633   0.250446              0.000000        1.131821   \n",
       "5        0.007511   0.390059              0.006975        0.707686   \n",
       "\n",
       "   Firearms Fired  \n",
       "0        0.003404  \n",
       "1        0.005218  \n",
       "2        0.035162  \n",
       "3        0.006363  \n",
       "4        0.004816  \n",
       "5        0.003219  "
      ]
     },
     "execution_count": 45,
     "metadata": {},
     "output_type": "execute_result"
    }
   ],
   "source": [
    "taser_cols = ['CED Drawn',\n",
    "       'CED Aimed', 'CED Red-Dotted', 'CED Arced','CED Drive Stun',\n",
    "       'CED Fired', 'CED Angle Drive Stun', 'Firearms Aimed', 'Firearms Fired']\n",
    "\n",
    "taser = by_ethnicity[taser_cols]\n",
    "\n",
    "# calculating percentage of incidents that fall into each taser or firearm category \n",
    "    # as proportion of total incidents for that race\n",
    "taser = taser.div(incidents_per_ethnicity, axis=0)*100\n",
    "taser = taser.reset_index().rename(columns={'index':'SubjectEthnicity'})\n",
    "taser"
   ]
  },
  {
   "cell_type": "markdown",
   "id": "0536e427",
   "metadata": {},
   "source": [
    "Again, there is not really a considerable difference by ethnicity."
   ]
  },
  {
   "cell_type": "markdown",
   "id": "b68a3409",
   "metadata": {},
   "source": [
    "# 4. How is police violence changing over time?"
   ]
  },
  {
   "cell_type": "markdown",
   "id": "1a3a749b",
   "metadata": {},
   "source": [
    "## 4.1 Time Series Data Derivation"
   ]
  },
  {
   "cell_type": "markdown",
   "id": "2a9f7423",
   "metadata": {},
   "source": [
    "Since the police force data is in the form of rows of incidents over time, this can be transformed to a number of counts per day, which lends itself to Poisson regression modelling. This will be used to see how police force is trending over time."
   ]
  },
  {
   "cell_type": "code",
   "execution_count": 385,
   "id": "39ac71fe",
   "metadata": {},
   "outputs": [
    {
     "data": {
      "text/html": [
       "<div>\n",
       "<style scoped>\n",
       "    .dataframe tbody tr th:only-of-type {\n",
       "        vertical-align: middle;\n",
       "    }\n",
       "\n",
       "    .dataframe tbody tr th {\n",
       "        vertical-align: top;\n",
       "    }\n",
       "\n",
       "    .dataframe thead th {\n",
       "        text-align: right;\n",
       "    }\n",
       "</style>\n",
       "<table border=\"1\" class=\"dataframe\">\n",
       "  <thead>\n",
       "    <tr style=\"text-align: right;\">\n",
       "      <th></th>\n",
       "      <th>DateTime</th>\n",
       "      <th>Incidents</th>\n",
       "      <th>Day</th>\n",
       "    </tr>\n",
       "  </thead>\n",
       "  <tbody>\n",
       "    <tr>\n",
       "      <th>0</th>\n",
       "      <td>2017-04-01</td>\n",
       "      <td>102</td>\n",
       "      <td>0</td>\n",
       "    </tr>\n",
       "    <tr>\n",
       "      <th>1</th>\n",
       "      <td>2017-04-02</td>\n",
       "      <td>115</td>\n",
       "      <td>1</td>\n",
       "    </tr>\n",
       "    <tr>\n",
       "      <th>2</th>\n",
       "      <td>2017-04-03</td>\n",
       "      <td>110</td>\n",
       "      <td>2</td>\n",
       "    </tr>\n",
       "    <tr>\n",
       "      <th>3</th>\n",
       "      <td>2017-04-04</td>\n",
       "      <td>102</td>\n",
       "      <td>3</td>\n",
       "    </tr>\n",
       "    <tr>\n",
       "      <th>4</th>\n",
       "      <td>2017-04-05</td>\n",
       "      <td>121</td>\n",
       "      <td>4</td>\n",
       "    </tr>\n",
       "    <tr>\n",
       "      <th>...</th>\n",
       "      <td>...</td>\n",
       "      <td>...</td>\n",
       "      <td>...</td>\n",
       "    </tr>\n",
       "    <tr>\n",
       "      <th>1456</th>\n",
       "      <td>2021-03-27</td>\n",
       "      <td>348</td>\n",
       "      <td>1456</td>\n",
       "    </tr>\n",
       "    <tr>\n",
       "      <th>1457</th>\n",
       "      <td>2021-03-28</td>\n",
       "      <td>322</td>\n",
       "      <td>1457</td>\n",
       "    </tr>\n",
       "    <tr>\n",
       "      <th>1458</th>\n",
       "      <td>2021-03-29</td>\n",
       "      <td>332</td>\n",
       "      <td>1458</td>\n",
       "    </tr>\n",
       "    <tr>\n",
       "      <th>1459</th>\n",
       "      <td>2021-03-30</td>\n",
       "      <td>378</td>\n",
       "      <td>1459</td>\n",
       "    </tr>\n",
       "    <tr>\n",
       "      <th>1460</th>\n",
       "      <td>2021-03-31</td>\n",
       "      <td>295</td>\n",
       "      <td>1460</td>\n",
       "    </tr>\n",
       "  </tbody>\n",
       "</table>\n",
       "<p>1461 rows × 3 columns</p>\n",
       "</div>"
      ],
      "text/plain": [
       "       DateTime  Incidents   Day\n",
       "0    2017-04-01        102     0\n",
       "1    2017-04-02        115     1\n",
       "2    2017-04-03        110     2\n",
       "3    2017-04-04        102     3\n",
       "4    2017-04-05        121     4\n",
       "...         ...        ...   ...\n",
       "1456 2021-03-27        348  1456\n",
       "1457 2021-03-28        322  1457\n",
       "1458 2021-03-29        332  1458\n",
       "1459 2021-03-30        378  1459\n",
       "1460 2021-03-31        295  1460\n",
       "\n",
       "[1461 rows x 3 columns]"
      ]
     },
     "execution_count": 385,
     "metadata": {},
     "output_type": "execute_result"
    }
   ],
   "source": [
    "# First, I will count the number of incidents per day \n",
    "    # (it doesn't matter which column I count as they are all the same length)\n",
    "incidents_per_day = incidents.groupby(pd.Grouper(key='DateTime', freq='D'))['Borough'].count().reset_index()\n",
    "\n",
    "# renaming the column to make sense \n",
    "incidents_per_day = incidents_per_day.rename(columns={'Borough': 'Incidents'})\n",
    "\n",
    "# For the regression the variables are going to need to be numeric, not datetime objects\n",
    "    # so, I am adding a column representing the number of days since the beggining of the data set\n",
    "incidents_per_day['Day'] = (incidents_per_day.index - incidents_per_day.index[0])\n",
    "\n",
    "incidents_per_day"
   ]
  },
  {
   "cell_type": "code",
   "execution_count": 389,
   "id": "134bf001",
   "metadata": {},
   "outputs": [
    {
     "data": {
      "image/png": "[encoded data removed]",
      "text/plain": [
       "<Figure size 811.44x504 with 1 Axes>"
      ]
     },
     "metadata": {
      "needs_background": "light"
     },
     "output_type": "display_data"
    }
   ],
   "source": [
    "# a visualisation of the data to see the trend\n",
    "plt.figure(figsize=(7*1.61,7))\n",
    "plt.plot(incidents_per_day['DateTime'], incidents_per_day['Incidents'])\n",
    "\n",
    "plt.xticks(rotation = 45, size=12)\n",
    "plt.xlabel('Date', size=12)\n",
    "plt.ylabel('Police Force Incidents', size=12)\n",
    "\n",
    "plt.xticks(size=12)\n",
    "plt.xlim(incidents_per_day['DateTime'].iloc[0], incidents_per_day['DateTime'].iloc[-1])\n",
    "plt.grid()\n",
    "plt.show()"
   ]
  },
  {
   "cell_type": "markdown",
   "id": "09563b67",
   "metadata": {},
   "source": [
    "From this visualisation, it can be seen that the number of incidents is generally increasing over time, however, it does not look uniform - it increases quite steeply around June 2018 and then levels off towards the end of the year into a shallower slope until now. It may be beneficial to truncate the beggining of the dataset, or fit two trends to the data set."
   ]
  },
  {
   "cell_type": "code",
   "execution_count": 369,
   "id": "4d22ba6f",
   "metadata": {},
   "outputs": [
    {
     "data": {
      "image/png": "[encoded data removed]",
      "text/plain": [
       "<Figure size 432x288 with 1 Axes>"
      ]
     },
     "metadata": {
      "needs_background": "light"
     },
     "output_type": "display_data"
    }
   ],
   "source": [
    "sns.kdeplot(incidents_per_day['Incidents'], shade=True)\n",
    "plt.grid()\n",
    "plt.show()"
   ]
  },
  {
   "cell_type": "code",
   "execution_count": 49,
   "id": "b5dd7a5f",
   "metadata": {},
   "outputs": [
    {
     "data": {
      "image/png": "[encoded data removed]",
      "text/plain": [
       "<Figure size 432x288 with 1 Axes>"
      ]
     },
     "metadata": {
      "needs_background": "light"
     },
     "output_type": "display_data"
    }
   ],
   "source": [
    "sm.qqplot(incidents_per_day['Incidents'],fit=True, line ='45')\n",
    "plt.show()\n"
   ]
  },
  {
   "cell_type": "markdown",
   "id": "f9649b7a",
   "metadata": {},
   "source": [
    "A KDE plot of the incident count and QQ also confirm this - the distribution is clearly bimodal. So, I will truncate the data set and have another look."
   ]
  },
  {
   "cell_type": "code",
   "execution_count": 50,
   "id": "bd06760a",
   "metadata": {},
   "outputs": [
    {
     "data": {
      "image/png": "[encoded data removed]",
      "text/plain": [
       "<Figure size 432x288 with 1 Axes>"
      ]
     },
     "metadata": {
      "needs_background": "light"
     },
     "output_type": "display_data"
    }
   ],
   "source": [
    "# the number of days to truncate was done qualitatively by changing the number and looking at the graph below\n",
    "# the data set now starts at the beginning of September 2018\n",
    "incidents_short = incidents_per_day.drop([i for i in range(518)]) \n",
    "sns.lineplot(x=incidents_short['DateTime'], y=incidents_short['Incidents'])\n",
    "plt.xticks(rotation = 45)\n",
    "plt.grid()\n",
    "plt.show()"
   ]
  },
  {
   "cell_type": "code",
   "execution_count": 51,
   "id": "254af661",
   "metadata": {},
   "outputs": [
    {
     "data": {
      "image/png": "[encoded data removed]",
      "text/plain": [
       "<Figure size 432x288 with 1 Axes>"
      ]
     },
     "metadata": {
      "needs_background": "light"
     },
     "output_type": "display_data"
    }
   ],
   "source": [
    "sm.qqplot(incidents_short['Incidents'],fit=True, line ='45')\n",
    "plt.show()"
   ]
  },
  {
   "cell_type": "markdown",
   "id": "6c2d4438",
   "metadata": {},
   "source": [
    "The QQ plot now looks as expected for Poisson distributed data - with a right skew. So, I will proceed with this truncated data set."
   ]
  },
  {
   "cell_type": "markdown",
   "id": "70ab0094",
   "metadata": {},
   "source": [
    "## 4.2 Poisson Regression Model"
   ]
  },
  {
   "cell_type": "markdown",
   "id": "b1ccb21a",
   "metadata": {},
   "source": [
    "Lots of information was retrieved from this website: https://timeseriesreasoning.com/contents/poisson-regression-model/"
   ]
  },
  {
   "cell_type": "code",
   "execution_count": 52,
   "id": "da079c1d",
   "metadata": {},
   "outputs": [
    {
     "data": {
      "text/html": [
       "<table class=\"simpletable\">\n",
       "<caption>Generalized Linear Model Regression Results</caption>\n",
       "<tr>\n",
       "  <th>Dep. Variable:</th>       <td>Incidents</td>    <th>  No. Observations:  </th>  <td>   943</td> \n",
       "</tr>\n",
       "<tr>\n",
       "  <th>Model:</th>                  <td>GLM</td>       <th>  Df Residuals:      </th>  <td>   941</td> \n",
       "</tr>\n",
       "<tr>\n",
       "  <th>Model Family:</th>         <td>Poisson</td>     <th>  Df Model:          </th>  <td>     1</td> \n",
       "</tr>\n",
       "<tr>\n",
       "  <th>Link Function:</th>          <td>log</td>       <th>  Scale:             </th> <td>  1.0000</td>\n",
       "</tr>\n",
       "<tr>\n",
       "  <th>Method:</th>                <td>IRLS</td>       <th>  Log-Likelihood:    </th> <td> -7033.7</td>\n",
       "</tr>\n",
       "<tr>\n",
       "  <th>Date:</th>            <td>Thu, 23 Dec 2021</td> <th>  Deviance:          </th> <td>  6749.6</td>\n",
       "</tr>\n",
       "<tr>\n",
       "  <th>Time:</th>                <td>10:07:25</td>     <th>  Pearson chi2:      </th> <td>6.79e+03</td>\n",
       "</tr>\n",
       "<tr>\n",
       "  <th>No. Iterations:</th>          <td>4</td>        <th>  Pseudo R-squ. (CS):</th>  <td>0.5471</td> \n",
       "</tr>\n",
       "<tr>\n",
       "  <th>Covariance Type:</th>     <td>nonrobust</td>    <th>                     </th>     <td> </td>   \n",
       "</tr>\n",
       "</table>\n",
       "<table class=\"simpletable\">\n",
       "<tr>\n",
       "      <td></td>         <th>coef</th>     <th>std err</th>      <th>z</th>      <th>P>|z|</th>  <th>[0.025</th>    <th>0.975]</th>  \n",
       "</tr>\n",
       "<tr>\n",
       "  <th>Intercept</th> <td>    5.7646</td> <td>    0.006</td> <td>  901.042</td> <td> 0.000</td> <td>    5.752</td> <td>    5.777</td>\n",
       "</tr>\n",
       "<tr>\n",
       "  <th>Day</th>       <td>    0.0002</td> <td> 6.16e-06</td> <td>   27.320</td> <td> 0.000</td> <td>    0.000</td> <td>    0.000</td>\n",
       "</tr>\n",
       "</table>"
      ],
      "text/plain": [
       "<class 'statsmodels.iolib.summary.Summary'>\n",
       "\"\"\"\n",
       "                 Generalized Linear Model Regression Results                  \n",
       "==============================================================================\n",
       "Dep. Variable:              Incidents   No. Observations:                  943\n",
       "Model:                            GLM   Df Residuals:                      941\n",
       "Model Family:                 Poisson   Df Model:                            1\n",
       "Link Function:                    log   Scale:                          1.0000\n",
       "Method:                          IRLS   Log-Likelihood:                -7033.7\n",
       "Date:                Thu, 23 Dec 2021   Deviance:                       6749.6\n",
       "Time:                        10:07:25   Pearson chi2:                 6.79e+03\n",
       "No. Iterations:                     4   Pseudo R-squ. (CS):             0.5471\n",
       "Covariance Type:            nonrobust                                         \n",
       "==============================================================================\n",
       "                 coef    std err          z      P>|z|      [0.025      0.975]\n",
       "------------------------------------------------------------------------------\n",
       "Intercept      5.7646      0.006    901.042      0.000       5.752       5.777\n",
       "Day            0.0002   6.16e-06     27.320      0.000       0.000       0.000\n",
       "==============================================================================\n",
       "\"\"\""
      ]
     },
     "execution_count": 52,
     "metadata": {},
     "output_type": "execute_result"
    }
   ],
   "source": [
    "# Setting up the poisson model\n",
    "expr = \"Incidents ~ Day\"\n",
    "poisson_mdl = smf.glm(formula=expr, data=incidents_short, family=sm.families.Poisson()).fit()\n",
    "poisson_mdl.summary()"
   ]
  },
  {
   "cell_type": "markdown",
   "id": "d4d0109f",
   "metadata": {},
   "source": [
    "We can see that the deviance and pearson chi2 values for this model are very large, so this probably isn't a very good fit. This is likely due to the key assumption of the Poission model that the mean is equal to the variance being violated. We can estimate the dispersion (i.e if the variance is different from the mean) by taking the raio of the deviance to the degrees of freedom. This information is from: https://bookdown.org/roback/bookdown-BeyondMLR/ch-poissonreg.html#sec-overdispPois"
   ]
  },
  {
   "cell_type": "code",
   "execution_count": 53,
   "id": "810011c3",
   "metadata": {},
   "outputs": [
    {
     "data": {
      "text/plain": [
       "7.17279029091203"
      ]
     },
     "execution_count": 53,
     "metadata": {},
     "output_type": "execute_result"
    }
   ],
   "source": [
    "poisson_mdl.deviance/ poisson_mdl.df_resid"
   ]
  },
  {
   "cell_type": "markdown",
   "id": "ccb5829c",
   "metadata": {},
   "source": [
    "This value is quite a lot more than 1, meaning there is significant overdispersion, meaning the variance is larger than assumed by the poisson model. So, now, I will fit a Negative Binomial model which does not have the mean = variance assumption, so can handle the overdispersion."
   ]
  },
  {
   "cell_type": "markdown",
   "id": "bcc529b7",
   "metadata": {},
   "source": [
    "## 4.3 Negative Binomial Regression Model"
   ]
  },
  {
   "cell_type": "code",
   "execution_count": 54,
   "id": "f3cfea62",
   "metadata": {
    "scrolled": false
   },
   "outputs": [
    {
     "data": {
      "text/html": [
       "<table class=\"simpletable\">\n",
       "<caption>Generalized Linear Model Regression Results</caption>\n",
       "<tr>\n",
       "  <th>Dep. Variable:</th>       <td>Incidents</td>    <th>  No. Observations:  </th>  <td>   943</td> \n",
       "</tr>\n",
       "<tr>\n",
       "  <th>Model:</th>                  <td>GLM</td>       <th>  Df Residuals:      </th>  <td>   941</td> \n",
       "</tr>\n",
       "<tr>\n",
       "  <th>Model Family:</th>    <td>NegativeBinomial</td> <th>  Df Model:          </th>  <td>     1</td> \n",
       "</tr>\n",
       "<tr>\n",
       "  <th>Link Function:</th>          <td>log</td>       <th>  Scale:             </th> <td>  1.0000</td>\n",
       "</tr>\n",
       "<tr>\n",
       "  <th>Method:</th>                <td>IRLS</td>       <th>  Log-Likelihood:    </th> <td> -6537.4</td>\n",
       "</tr>\n",
       "<tr>\n",
       "  <th>Date:</th>            <td>Thu, 23 Dec 2021</td> <th>  Deviance:          </th> <td>  17.829</td>\n",
       "</tr>\n",
       "<tr>\n",
       "  <th>Time:</th>                <td>10:07:26</td>     <th>  Pearson chi2:      </th>  <td>  17.8</td> \n",
       "</tr>\n",
       "<tr>\n",
       "  <th>No. Iterations:</th>          <td>4</td>        <th>  Pseudo R-squ. (CS):</th> <td>0.002117</td>\n",
       "</tr>\n",
       "<tr>\n",
       "  <th>Covariance Type:</th>     <td>nonrobust</td>    <th>                     </th>     <td> </td>   \n",
       "</tr>\n",
       "</table>\n",
       "<table class=\"simpletable\">\n",
       "<tr>\n",
       "      <td></td>         <th>coef</th>     <th>std err</th>      <th>z</th>      <th>P>|z|</th>  <th>[0.025</th>    <th>0.975]</th>  \n",
       "</tr>\n",
       "<tr>\n",
       "  <th>Intercept</th> <td>    5.7628</td> <td>    0.123</td> <td>   46.899</td> <td> 0.000</td> <td>    5.522</td> <td>    6.004</td>\n",
       "</tr>\n",
       "<tr>\n",
       "  <th>Day</th>       <td>    0.0002</td> <td>    0.000</td> <td>    1.422</td> <td> 0.155</td> <td>-6.45e-05</td> <td>    0.000</td>\n",
       "</tr>\n",
       "</table>"
      ],
      "text/plain": [
       "<class 'statsmodels.iolib.summary.Summary'>\n",
       "\"\"\"\n",
       "                 Generalized Linear Model Regression Results                  \n",
       "==============================================================================\n",
       "Dep. Variable:              Incidents   No. Observations:                  943\n",
       "Model:                            GLM   Df Residuals:                      941\n",
       "Model Family:        NegativeBinomial   Df Model:                            1\n",
       "Link Function:                    log   Scale:                          1.0000\n",
       "Method:                          IRLS   Log-Likelihood:                -6537.4\n",
       "Date:                Thu, 23 Dec 2021   Deviance:                       17.829\n",
       "Time:                        10:07:26   Pearson chi2:                     17.8\n",
       "No. Iterations:                     4   Pseudo R-squ. (CS):           0.002117\n",
       "Covariance Type:            nonrobust                                         \n",
       "==============================================================================\n",
       "                 coef    std err          z      P>|z|      [0.025      0.975]\n",
       "------------------------------------------------------------------------------\n",
       "Intercept      5.7628      0.123     46.899      0.000       5.522       6.004\n",
       "Day            0.0002      0.000      1.422      0.155   -6.45e-05       0.000\n",
       "==============================================================================\n",
       "\"\"\""
      ]
     },
     "execution_count": 54,
     "metadata": {},
     "output_type": "execute_result"
    }
   ],
   "source": [
    "nb_mdl = smf.glm(formula=expr, data=incidents_short, family=sm.families.NegativeBinomial()).fit()\n",
    "nb_mdl.summary()"
   ]
  },
  {
   "cell_type": "markdown",
   "id": "710d4009",
   "metadata": {},
   "source": [
    "To see if the negative binomial model has fit better than the poisson, I will calculate the likelihood ratio:"
   ]
  },
  {
   "cell_type": "code",
   "execution_count": 55,
   "id": "983e91c1",
   "metadata": {},
   "outputs": [
    {
     "data": {
      "text/plain": [
       "992.5857860260166"
      ]
     },
     "execution_count": 55,
     "metadata": {},
     "output_type": "execute_result"
    }
   ],
   "source": [
    "-2*(poisson_mdl.llf - nb_mdl.llf)"
   ]
  },
  {
   "cell_type": "markdown",
   "id": "6db8647f",
   "metadata": {},
   "source": [
    "This is much larger than the critical value of chi squared, indicating that the NB is a much better fit than poisson. To quantify the goodness of fit of the NB by itself, we can look at the deviance and pearson chi squared compared to the chi squared statistic at the 95% confidence level with 942 degrees of freedom:"
   ]
  },
  {
   "cell_type": "code",
   "execution_count": 56,
   "id": "ed94fd15",
   "metadata": {},
   "outputs": [
    {
     "data": {
      "text/plain": [
       "871.7599929912574"
      ]
     },
     "execution_count": 56,
     "metadata": {},
     "output_type": "execute_result"
    }
   ],
   "source": [
    "stats.chi2.ppf(0.05, 942)"
   ]
  },
  {
   "cell_type": "markdown",
   "id": "25b87266",
   "metadata": {},
   "source": [
    "This value is much larger than the pearson chi2 and disperson, indicating that the NB model is a good fit, so I will proceed with this model. Below is what the NB fit looks like."
   ]
  },
  {
   "cell_type": "code",
   "execution_count": 399,
   "id": "4cef9e0e",
   "metadata": {},
   "outputs": [
    {
     "data": {
      "image/png": "[encoded data removed]",
      "text/plain": [
       "<Figure size 811.44x504 with 1 Axes>"
      ]
     },
     "metadata": {
      "needs_background": "light"
     },
     "output_type": "display_data"
    }
   ],
   "source": [
    "# Plotting the fitted line\n",
    "pred_vals = nb_mdl.predict()\n",
    "\n",
    "plt.figure(figsize=(7*1.61,7))\n",
    "plt.plot(incidents_short['DateTime'],incidents_short['Incidents'],alpha=0.75)\n",
    "plt.plot(incidents_short['DateTime'], pred_vals, lw=3.5, ls='--', color='r', label='Negative Binomial Fit')\n",
    "\n",
    "plt.xticks(rotation = 45, size=12)\n",
    "plt.xlabel('Date', size=12)\n",
    "plt.ylabel('Police Force Incidents', size=12)\n",
    "\n",
    "plt.xticks(size=12)\n",
    "plt.yticks(size=12)\n",
    "plt.xlim(incidents_short['DateTime'].iloc[0], incidents_short['DateTime'].iloc[-1])\n",
    "plt.grid()\n",
    "plt.show()"
   ]
  },
  {
   "cell_type": "code",
   "execution_count": 397,
   "id": "73ce4150",
   "metadata": {},
   "outputs": [
    {
     "data": {
      "text/plain": [
       "<Figure size 811.44x504 with 0 Axes>"
      ]
     },
     "metadata": {},
     "output_type": "display_data"
    },
    {
     "data": {
      "image/png": "[encoded data removed]",
      "text/plain": [
       "<Figure size 432x288 with 1 Axes>"
      ]
     },
     "metadata": {
      "needs_background": "light"
     },
     "output_type": "display_data"
    }
   ],
   "source": [
    "# Calculating and making a QQ plot of residuals\n",
    "\n",
    "res = incidents_short['Incidents'] - pred_vals\n",
    "plt.figure(figsize=(7*1.61,7))\n",
    "sm.qqplot(res,fit=True, line ='45')\n",
    "\n",
    "plt.show()"
   ]
  },
  {
   "cell_type": "markdown",
   "id": "1c143201",
   "metadata": {},
   "source": [
    "Looking at the QQ plot, the fit is still not ideal and it has some skew. This is likely due to autocorrelation in the data, however, this will not be explored now as the model is good enough to gain some insight, even if it could be improved. To deal with the autocorrelation, the data could be examined for seasonality, or a different model could be used to take account of it."
   ]
  },
  {
   "cell_type": "code",
   "execution_count": 68,
   "id": "fe9c321b",
   "metadata": {},
   "outputs": [
    {
     "name": "stdout",
     "output_type": "stream",
     "text": [
      "-5883.624970641964 16.043345426513707 16.05843811031897\n"
     ]
    }
   ],
   "source": [
    "# Implementing k fold cross validation to estimate the generalisation error of our model\n",
    "llf, dev, chi2 = [], [], []\n",
    "kfold = KFold(n_splits=10, shuffle=True, random_state=1)\n",
    "for train_idx, test_idx in kfold.split(incidents_short):\n",
    "    X_train, X_test = incidents_short.iloc[train_idx], incidents_short.iloc[test_idx]\n",
    "    y_test = incidents_short.iloc[test_idx,1]\n",
    "    model = smf.glm(formula = expr, data=X_train, \n",
    "                    family=sm.families.NegativeBinomial()).fit()\n",
    "    preds = model.predict(X_test)\n",
    "    res = y_test - preds\n",
    "    llf.append(model.llf)\n",
    "    dev.append(model.deviance)\n",
    "    chi2.append(model.pearson_chi2)\n",
    "llf_mean = np.array(llf).mean()\n",
    "dev_mean = np.array(dev).mean()\n",
    "chi2_mean = np.array(chi2).mean()\n",
    "print(llf_mean, dev_mean, chi2_mean) # The validation goodness of fit measures are very similar to the training ones"
   ]
  },
  {
   "cell_type": "markdown",
   "id": "a540b6b5",
   "metadata": {},
   "source": [
    "## 4.4 Proportion of Ethnicity over Time"
   ]
  },
  {
   "cell_type": "markdown",
   "id": "f4b38f2f",
   "metadata": {},
   "source": [
    "Next, I will see if the proportion of incidents by ethnicity is changing over time."
   ]
  },
  {
   "cell_type": "code",
   "execution_count": 69,
   "id": "0cfae261",
   "metadata": {},
   "outputs": [],
   "source": [
    "# encoding the SubjectEthnicity Column so that the counts per by ethnicity can be found\n",
    "dummy_ethnicity = pd.get_dummies(incidents['SubjectEthnicity'])\n",
    "ethnicity_cols = ['Asian (or Asian British)','Black (or Black British)','Chinese', \n",
    "                  \"Don't know\",'Mixed','Other','White']\n",
    "incidents_eth_encoded = pd.concat([incidents, dummy_ethnicity], axis=1)\n",
    "\n",
    "incidents_daily_ethnicity = incidents_eth_encoded.groupby(pd.Grouper(key='DateTime', freq='D'))[ethnicity_cols].sum()\n",
    "incidents_daily_ethnicity = incidents_daily_ethnicity.reset_index()\n",
    "\n",
    "incidents_daily_ethnicity = pd.merge(incidents_per_day, incidents_daily_ethnicity)\n",
    "\n",
    "# Calculating percentage of incidents by ethnicity\n",
    "for eth in ethnicity_cols:\n",
    "    incidents_daily_ethnicity[eth] = incidents_daily_ethnicity[eth]*100/incidents_daily_ethnicity['Incidents']"
   ]
  },
  {
   "cell_type": "code",
   "execution_count": 70,
   "id": "5f50282d",
   "metadata": {},
   "outputs": [
    {
     "data": {
      "text/plain": [
       "<matplotlib.legend.Legend at 0x7fa570d1c400>"
      ]
     },
     "execution_count": 70,
     "metadata": {},
     "output_type": "execute_result"
    },
    {
     "data": {
      "image/png": "[encoded data removed]",
      "text/plain": [
       "<Figure size 579.6x360 with 1 Axes>"
      ]
     },
     "metadata": {
      "needs_background": "light"
     },
     "output_type": "display_data"
    }
   ],
   "source": [
    "plt.figure(figsize=(5*1.61,5))\n",
    "for eth in ethnicity_cols:\n",
    "    plt.plot(incidents_daily_ethnicity[\"DateTime\"], incidents_daily_ethnicity[eth],'o',alpha=0.5, label=eth)\n",
    "\n",
    "plt.legend()"
   ]
  },
  {
   "cell_type": "markdown",
   "id": "c8043a60",
   "metadata": {},
   "source": [
    "There seeems to be a slight upward trend in the proportion of incidents affecting Asian (or Asian British people), and a corresponding downward trend in the White and Black (or Black British) categories. I will calulate pearson's r squared coefficient for these categories against time to see if this warrants further investigation."
   ]
  },
  {
   "cell_type": "code",
   "execution_count": 71,
   "id": "39b3c576",
   "metadata": {},
   "outputs": [
    {
     "data": {
      "text/plain": [
       "(0.40053433168585895, -0.12776434677192247, -0.17199476968499294)"
      ]
     },
     "execution_count": 71,
     "metadata": {},
     "output_type": "execute_result"
    }
   ],
   "source": [
    "time = incidents_daily_ethnicity[\"Day\"]\n",
    "corr_asian = pearsonr(time, incidents_daily_ethnicity['Asian (or Asian British)'])\n",
    "corr_black = pearsonr(time, incidents_daily_ethnicity['Black (or Black British)'])\n",
    "corr_white = pearsonr(time, incidents_daily_ethnicity['White'])\n",
    "corr_asian[0], corr_black[0], corr_white[0]"
   ]
  },
  {
   "cell_type": "markdown",
   "id": "941e7601",
   "metadata": {},
   "source": [
    "These values aren't large enough to warrant further modelling."
   ]
  },
  {
   "cell_type": "markdown",
   "id": "f180fa3c",
   "metadata": {},
   "source": [
    "# 5. Is there a link between crime levels and the use of force by the Metropolitan Police?"
   ]
  },
  {
   "cell_type": "markdown",
   "id": "03742891",
   "metadata": {},
   "source": [
    "Finally, I will explore if there is any justification for the increasing police force levels, by seeing if it is related to increasing crime. This will incorporate the Met Police crime data."
   ]
  },
  {
   "cell_type": "code",
   "execution_count": 401,
   "id": "aaa33198",
   "metadata": {},
   "outputs": [
    {
     "data": {
      "text/plain": [
       "[<matplotlib.lines.Line2D at 0x7fa760b895b0>]"
      ]
     },
     "execution_count": 401,
     "metadata": {},
     "output_type": "execute_result"
    },
    {
     "data": {
      "image/png": "[encoded data removed]",
      "text/plain": [
       "<Figure size 432x288 with 1 Axes>"
      ]
     },
     "metadata": {
      "needs_background": "light"
     },
     "output_type": "display_data"
    }
   ],
   "source": [
    "# visualisation of total crime over time\n",
    "plt.plot(crime_totals['Date'], crime_totals['Total Crime'])"
   ]
  },
  {
   "cell_type": "code",
   "execution_count": 403,
   "id": "5cc72b9d",
   "metadata": {},
   "outputs": [],
   "source": [
    "# regrouping incident data by month so that it matches with crime data\n",
    "incidents_per_month = incidents.groupby(pd.Grouper(key='DateTime', freq='M'))['Borough'].count().reset_index()\n",
    "\n",
    "# renaming the column to make sense \n",
    "incidents_per_month = incidents_per_month.rename(columns={'Borough': 'Incidents'})"
   ]
  },
  {
   "cell_type": "code",
   "execution_count": 404,
   "id": "d18893bf",
   "metadata": {},
   "outputs": [],
   "source": [
    "# getting the crime data from earlier\n",
    "incidents_per_month['Crime'] = crime_totals['Total Crime']\n",
    "incidents_per_month['Violent Crime'] = crime_totals['Violent Crime']\n",
    "incidents_per_month['Non-Violent Crime'] = crime_totals['Non-Violent Crime']"
   ]
  },
  {
   "cell_type": "code",
   "execution_count": 75,
   "id": "d0476254",
   "metadata": {},
   "outputs": [
    {
     "data": {
      "image/png": "[encoded data removed]",
      "text/plain": [
       "<Figure size 432x288 with 2 Axes>"
      ]
     },
     "metadata": {
      "needs_background": "light"
     },
     "output_type": "display_data"
    }
   ],
   "source": [
    "crime_cols = ['Incidents','Non-Violent Crime','Violent Crime','Crime']\n",
    "corrMatrix = incidents_per_day[crime_cols].corr()\n",
    "ax = sns.heatmap(corrMatrix, annot=True, square=True)\n",
    "#ax.set_yticklabels(['Police Force Incidents','2','3','4'])\n",
    "plt.show()"
   ]
  },
  {
   "cell_type": "markdown",
   "id": "5554fef3",
   "metadata": {},
   "source": [
    "Surprisingly, there is no significant relationship between police force incidents and crime according to the r value, regardless of crime type. "
   ]
  },
  {
   "cell_type": "code",
   "execution_count": 427,
   "id": "e4ad484e",
   "metadata": {},
   "outputs": [
    {
     "data": {
      "image/png": "[encoded data removed]",
      "text/plain": [
       "<Figure size 579.6x360 with 2 Axes>"
      ]
     },
     "metadata": {
      "needs_background": "light"
     },
     "output_type": "display_data"
    }
   ],
   "source": [
    "# quick visualisation to check there is no relationship\n",
    "sns.pairplot(data=incidents_per_month, x_vars=['Crime','Violent Crime'], y_vars='Incidents')\n",
    "plt.gcf().set_size_inches(5*1.61, 5)\n",
    "plt.show()"
   ]
  }
 ],
 "metadata": {
  "kernelspec": {
   "display_name": "Python 3 (ipykernel)",
   "language": "python",
   "name": "python3"
  },
  "language_info": {
   "codemirror_mode": {
    "name": "ipython",
    "version": 3
   },
   "file_extension": ".py",
   "mimetype": "text/x-python",
   "name": "python",
   "nbconvert_exporter": "python",
   "pygments_lexer": "ipython3",
   "version": "3.8.12"
  }
 },
 "nbformat": 4,
 "nbformat_minor": 5
}
